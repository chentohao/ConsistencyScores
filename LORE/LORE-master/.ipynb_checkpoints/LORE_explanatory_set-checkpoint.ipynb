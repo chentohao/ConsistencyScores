{
 "cells": [
  {
   "cell_type": "code",
   "execution_count": 31,
   "id": "1bc65e73",
   "metadata": {},
   "outputs": [],
   "source": [
    "import lore\n",
    "\n",
    "from prepare_dataset import *\n",
    "from neighbor_generator import *\n",
    "\n",
    "from sklearn.ensemble import RandomForestClassifier\n",
    "from sklearn.model_selection import train_test_split\n",
    "\n",
    "warnings.filterwarnings(\"ignore\")"
   ]
  },
  {
   "cell_type": "code",
   "execution_count": 32,
   "id": "f99dbbe3",
   "metadata": {},
   "outputs": [
    {
     "ename": "NameError",
     "evalue": "name 'prepare_breast_dataset' is not defined",
     "output_type": "error",
     "traceback": [
      "\u001b[1;31m---------------------------------------------------------------------------\u001b[0m",
      "\u001b[1;31mNameError\u001b[0m                                 Traceback (most recent call last)",
      "Cell \u001b[1;32mIn[32], line 4\u001b[0m\n\u001b[0;32m      1\u001b[0m path_data \u001b[38;5;241m=\u001b[39m \u001b[38;5;124m'\u001b[39m\u001b[38;5;124mdatasets/\u001b[39m\u001b[38;5;124m'\u001b[39m\n\u001b[0;32m      3\u001b[0m dataset_name \u001b[38;5;241m=\u001b[39m \u001b[38;5;124m'\u001b[39m\u001b[38;5;124mbreast-cancer-wisconsin.csv\u001b[39m\u001b[38;5;124m'\u001b[39m\n\u001b[1;32m----> 4\u001b[0m dataset \u001b[38;5;241m=\u001b[39m \u001b[43mprepare_breast_dataset\u001b[49m(dataset_name, path_data)\n\u001b[0;32m      6\u001b[0m X, y \u001b[38;5;241m=\u001b[39m dataset[\u001b[38;5;124m'\u001b[39m\u001b[38;5;124mX\u001b[39m\u001b[38;5;124m'\u001b[39m], dataset[\u001b[38;5;124m'\u001b[39m\u001b[38;5;124my\u001b[39m\u001b[38;5;124m'\u001b[39m]\n\u001b[0;32m      7\u001b[0m X_train, X_test, y_train, y_test \u001b[38;5;241m=\u001b[39m train_test_split(X, y, test_size\u001b[38;5;241m=\u001b[39m\u001b[38;5;241m0.3\u001b[39m, random_state\u001b[38;5;241m=\u001b[39m\u001b[38;5;241m42\u001b[39m)\n",
      "\u001b[1;31mNameError\u001b[0m: name 'prepare_breast_dataset' is not defined"
     ]
    }
   ],
   "source": [
    "path_data = 'datasets/'\n",
    "\n",
    "dataset_name = 'breast-cancer-wisconsin.csv'\n",
    "dataset = prepare_breast_dataset(dataset_name, path_data)\n",
    "\n",
    "X, y = dataset['X'], dataset['y']\n",
    "X_train, X_test, y_train, y_test = train_test_split(X, y, test_size=0.3, random_state=42)\n",
    "\n",
    "blackbox = RandomForestClassifier(n_estimators=100)\n",
    "blackbox.fit(X_train, y_train)\n",
    "\n",
    "X2E = X_test\n",
    "y2E = blackbox.predict(X2E)\n",
    "y2E = np.asarray([dataset['possible_outcomes'][i] for i in y2E])\n",
    "\n",
    "idx_record2explain = 0\n",
    "\n",
    "explanation, infos = lore.explain(idx_record2explain, X2E, dataset, blackbox,\n",
    "                                  ng_function=genetic_neighborhood,\n",
    "                                  discrete_use_probabilities=True,\n",
    "                                  continuous_function_estimation=False,\n",
    "                                  returns_infos=True,\n",
    "                                  path=path_data, sep=';', log=False)\n",
    "\n",
    "dfX2E = build_df2explain(blackbox, X2E, dataset).to_dict('records')\n",
    "dfx = dfX2E[idx_record2explain]\n",
    "# x = build_df2explain(blackbox, X2E[idx_record2explain].reshape(1, -1), dataset).to_dict('records')[0]\n",
    "\n",
    "print('x = %s' % dfx)\n",
    "print('r = %s --> %s' % (explanation[0][1], explanation[0][0]))"
   ]
  },
  {
   "cell_type": "code",
   "execution_count": null,
   "id": "82522065",
   "metadata": {},
   "outputs": [],
   "source": [
    "keys_view = explanation[0][1].keys()"
   ]
  },
  {
   "cell_type": "code",
   "execution_count": null,
   "id": "7c81a9d3",
   "metadata": {},
   "outputs": [],
   "source": [
    "keys_list = list(keys_view)"
   ]
  },
  {
   "cell_type": "code",
   "execution_count": null,
   "id": "46d6d401",
   "metadata": {},
   "outputs": [],
   "source": [
    "keys_list[0]"
   ]
  },
  {
   "cell_type": "code",
   "execution_count": null,
   "id": "83c47e4b",
   "metadata": {},
   "outputs": [],
   "source": []
  }
 ],
 "metadata": {
  "kernelspec": {
   "display_name": "Python 3 (ipykernel)",
   "language": "python",
   "name": "python3"
  },
  "language_info": {
   "codemirror_mode": {
    "name": "ipython",
    "version": 3
   },
   "file_extension": ".py",
   "mimetype": "text/x-python",
   "name": "python",
   "nbconvert_exporter": "python",
   "pygments_lexer": "ipython3",
   "version": "3.8.1"
  }
 },
 "nbformat": 4,
 "nbformat_minor": 5
}
