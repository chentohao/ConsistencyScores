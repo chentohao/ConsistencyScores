{
 "cells": [
  {
   "cell_type": "code",
   "execution_count": null,
   "id": "db5e2017",
   "metadata": {},
   "outputs": [],
   "source": [
    "import lore\n",
    "\n",
    "from prepare_dataset import *\n",
    "from neighbor_generator import *\n",
    "\n",
    "from sklearn.model_selection import train_test_split\n",
    "\n",
    "warnings.filterwarnings(\"ignore\")"
   ]
  },
  {
   "cell_type": "code",
   "execution_count": null,
   "id": "fd85d989",
   "metadata": {},
   "outputs": [],
   "source": [
    "path_data = '../../dataset/breast-cancer-wisconsin/'\n",
    "\n",
    "dataset_name = 'breast-cancer-wisconsin.csv'\n",
    "dataset = prepare_breast_dataset(dataset_name, path_data)\n",
    "\n",
    "X, y = dataset['X'], dataset['y']\n",
    "X_train, X_test, y_train, y_test = train_test_split(X, y, test_size=0.3, random_state=42)\n",
    "\n",
    "from sklearn.preprocessing import StandardScaler\n",
    "transform = StandardScaler()\n",
    "X_train = transform.fit_transform(X_train)\n",
    "X_test = transform.transform(X_test)\n",
    "\n",
    "import joblib\n",
    "blackbox = joblib.load('../../saved_model/breast-cancer-wisconsin/RF.pkl')\n",
    "\n",
    "X2E = X_test\n",
    "y2E = blackbox.predict(X2E)\n",
    "y2E = np.asarray([dataset['possible_outcomes'][i] for i in y2E])"
   ]
  },
  {
   "cell_type": "code",
   "execution_count": 11,
   "id": "f73c9258",
   "metadata": {},
   "outputs": [],
   "source": [
    "import numpy as np\n",
    "import pandas as pd\n",
    "\n",
    "df = pd.read_csv('dataset/breast-cancer-wisconsin/breast-cancer-wisconsin.csv')\n",
    "\n",
    "X = df.drop('diagnosis',axis=1)\n",
    "\n",
    "y=df['diagnosis']\n",
    "\n",
    "feature_names = X.columns\n",
    "\n",
    "from sklearn.preprocessing import LabelEncoder\n",
    "le = LabelEncoder()\n",
    "y = le.fit_transform(y)\n",
    "\n",
    "from sklearn.model_selection import train_test_split\n",
    "X_train, X_test, y_train, y_test = train_test_split(X, y, test_size=0.3, random_state=42)\n",
    "\n",
    "from sklearn.preprocessing import StandardScaler\n",
    "transform = StandardScaler()\n",
    "X_train = transform.fit_transform(X_train)\n",
    "X_test = transform.transform(X_test)\n",
    "\n",
    "#使用 np.random.randn(*x_train.shape)生成噪声，它将返回具有相同形状的正态分布均值为0，标准差为1的随机值数组。然后将生成的噪声与噪声的标准差(0.2)相乘，并将其添加到输入数据中。\n",
    "noise_std = 0.2\n",
    "np.random.seed(0)\n",
    "X_test_noisy = X_test + noise_std * np.random.randn(*X_test.shape)"
   ]
  },
  {
   "cell_type": "code",
   "execution_count": 12,
   "id": "9827b723",
   "metadata": {},
   "outputs": [
    {
     "name": "stdout",
     "output_type": "stream",
     "text": [
      "Confusion Matrix:\n",
      " [[104   4]\n",
      " [  3  60]]\n",
      "              precision    recall  f1-score   support\n",
      "\n",
      "      Benign       0.97      0.96      0.97       108\n",
      "   Malignant       0.94      0.95      0.94        63\n",
      "\n",
      "    accuracy                           0.96       171\n",
      "   macro avg       0.95      0.96      0.96       171\n",
      "weighted avg       0.96      0.96      0.96       171\n",
      "\n"
     ]
    }
   ],
   "source": [
    "import joblib\n",
    "model = joblib.load('saved_model/breast-cancer-wisconsin/MLP.pkl')\n",
    "\n",
    "y_pred = model.predict(X_test_noisy)\n",
    "y_pred_proba = model.predict_proba(X_test_noisy)\n",
    "\n",
    "from sklearn.metrics import confusion_matrix\n",
    "confusion_matrix_model = confusion_matrix(y_test,y_pred)\n",
    "print(\"Confusion Matrix:\\n\", confusion_matrix_model)\n",
    "from sklearn.metrics import classification_report\n",
    "print(classification_report(y_test,y_pred,target_names=['Benign','Malignant']))"
   ]
  },
  {
   "cell_type": "code",
   "execution_count": 13,
   "id": "c877b1b3",
   "metadata": {},
   "outputs": [],
   "source": [
    "import lime\n",
    "from lime import lime_tabular\n",
    "explainer = lime_tabular.LimeTabularExplainer(\n",
    "    training_data=np.array(X_train), # 训练集特征，必须是 numpy 的 Array\n",
    "    feature_names=feature_names, # 特征列名\n",
    "    class_names=['Benign','Malignant'], # 预测类别名称\n",
    "    mode='classification' # 分类模式\n",
    ")"
   ]
  },
  {
   "cell_type": "code",
   "execution_count": 14,
   "id": "ea727899",
   "metadata": {},
   "outputs": [],
   "source": [
    "explanations = [] \n",
    "\n",
    "# First loop over idx, generate explanation, and store the results in explanations\n",
    "for idx in range(171):\n",
    "    exp = explainer.explain_instance(\n",
    "            data_row=X_test_noisy[idx], \n",
    "            predict_fn=model.predict_proba,\n",
    "            num_features = 30\n",
    "        )\n",
    "    explanations.append(exp)"
   ]
  },
  {
   "cell_type": "code",
   "execution_count": 15,
   "id": "c6a61630",
   "metadata": {},
   "outputs": [],
   "source": [
    "for k in range(1, 31):\n",
    "    test_data = pd.read_csv('dataset/breast-cancer-wisconsin/test_data.csv')\n",
    "    bound = pd.read_csv('dataset/breast-cancer-wisconsin/bound.csv')\n",
    "    for idx in range(171):\n",
    "        exp = explanations[idx] # Use the previously stored explanation\n",
    "        mapa = exp.as_map().values()\n",
    "        lista = list(mapa)[0]\n",
    "        for j in range(k):\n",
    "            s = lista[j]\n",
    "            test_data.iat[idx,s[0]+1]=bound.iat[1,s[0]]+10\n",
    "    filename = 'explain_set/breast-cancer-wisconsin/MLP/lime/noise/lime_explain_'+str(k)+'.csv'\n",
    "    test_data.to_csv(filename,index=False)"
   ]
  },
  {
   "cell_type": "code",
   "execution_count": null,
   "id": "ca050772",
   "metadata": {},
   "outputs": [],
   "source": []
  }
 ],
 "metadata": {
  "kernelspec": {
   "display_name": "Python 3 (ipykernel)",
   "language": "python",
   "name": "python3"
  },
  "language_info": {
   "codemirror_mode": {
    "name": "ipython",
    "version": 3
   },
   "file_extension": ".py",
   "mimetype": "text/x-python",
   "name": "python",
   "nbconvert_exporter": "python",
   "pygments_lexer": "ipython3",
   "version": "3.8.1"
  }
 },
 "nbformat": 4,
 "nbformat_minor": 5
}
