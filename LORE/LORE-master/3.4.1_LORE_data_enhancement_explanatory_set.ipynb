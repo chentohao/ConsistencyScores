{
 "cells": [
  {
   "cell_type": "code",
   "execution_count": 1,
   "id": "6d4bb0a4",
   "metadata": {},
   "outputs": [],
   "source": [
    "import numpy as np\n",
    "import pandas as pd\n",
    "import lore\n",
    "\n",
    "from prepare_dataset import *\n",
    "from neighbor_generator import *\n",
    "\n",
    "from sklearn.ensemble import RandomForestClassifier\n",
    "from sklearn.model_selection import train_test_split\n",
    "\n",
    "warnings.filterwarnings(\"ignore\")"
   ]
  },
  {
   "cell_type": "code",
   "execution_count": 2,
   "id": "82ab0c35",
   "metadata": {},
   "outputs": [
    {
     "name": "stdout",
     "output_type": "stream",
     "text": [
      "Confusion Matrix:\n",
      " [[106   2]\n",
      " [  4  59]]\n",
      "              precision    recall  f1-score   support\n",
      "\n",
      "      Benign       0.96      0.98      0.97       108\n",
      "   Malignant       0.97      0.94      0.95        63\n",
      "\n",
      "    accuracy                           0.96       171\n",
      "   macro avg       0.97      0.96      0.96       171\n",
      "weighted avg       0.96      0.96      0.96       171\n",
      "\n"
     ]
    }
   ],
   "source": [
    "path_data = '../../dataset/breast-cancer-wisconsin/'\n",
    "\n",
    "dataset_name = 'breast-cancer-wisconsin.csv'\n",
    "dataset = prepare_breast_dataset(dataset_name, path_data)\n",
    "\n",
    "df_train = pd.read_csv('../../dataset/breast-cancer-wisconsin/train_data.csv')\n",
    "X_train = df_train.drop('diagnosis',axis=1)\n",
    "y_train = df_train['diagnosis']\n",
    "\n",
    "df_test = pd.read_csv('../../dataset/breast-cancer-wisconsin/test_data.csv')\n",
    "X_test = df_test.drop('diagnosis',axis=1)\n",
    "y_test = df_test['diagnosis']\n",
    "\n",
    "#数据增强\n",
    "df_enhan = pd.read_csv('../../data_enhan/breast-cancer-wisconsin/lore/lore_enhan.csv')\n",
    "X_enhan = df_enhan.drop('diagnosis',axis=1)\n",
    "y_enhan=df_enhan['diagnosis']\n",
    "y_enhan.to_numpy()\n",
    "X_train = pd.concat([X_train,X_enhan],ignore_index=True)\n",
    "y_train = np.concatenate((y_train, y_enhan))\n",
    "\n",
    "from sklearn.preprocessing import StandardScaler\n",
    "transform = StandardScaler()\n",
    "X_train = transform.fit_transform(X_train)\n",
    "X_test = transform.transform(X_test)\n",
    "\n",
    "import joblib\n",
    "blackbox = RandomForestClassifier(n_estimators=100, random_state=42) \n",
    "blackbox.fit(X_train, y_train)\n",
    "joblib.dump(blackbox,'../../saved_model/breast-cancer-wisconsin/enhance_model/lore/lore_enhan_model.pkl')\n",
    "\n",
    "y_pred = blackbox.predict(X_test)\n",
    "y_pred_proba = blackbox.predict_proba(X_test)\n",
    "\n",
    "from sklearn.metrics import confusion_matrix\n",
    "confusion_matrix_model = confusion_matrix(y_test,y_pred)\n",
    "print(\"Confusion Matrix:\\n\", confusion_matrix_model)\n",
    "\n",
    "from sklearn.metrics import classification_report\n",
    "print(classification_report(y_test,y_pred,target_names=['Benign','Malignant']))\n",
    "\n",
    "X2E = X_test\n",
    "y2E = blackbox.predict(X2E)\n",
    "y2E = np.asarray([dataset['possible_outcomes'][i] for i in y2E])"
   ]
  },
  {
   "cell_type": "code",
   "execution_count": 3,
   "id": "310b5d2d",
   "metadata": {},
   "outputs": [
    {
     "name": "stdout",
     "output_type": "stream",
     "text": [
      "No 'ss' samples have been generated. Trying again...\n",
      "No 'ss' samples have been generated. Trying again...\n",
      "No 'ss' samples have been generated. Trying again...\n",
      "No 'ss' samples have been generated. Trying again...\n",
      "No 'ss' samples have been generated. Trying again...\n",
      "No 'ss' samples have been generated. Trying again...\n",
      "No 'sd' samples have been generated. Trying again...\n",
      "No 'sd' samples have been generated. Trying again...\n",
      "No 'ss' samples have been generated. Trying again...\n",
      "No 'ss' samples have been generated. Trying again...\n",
      "No 'ss' samples have been generated. Trying again...\n",
      "No 'ss' samples have been generated. Trying again...\n",
      "No 'ss' samples have been generated. Trying again...\n",
      "No 'ss' samples have been generated. Trying again...\n",
      "No 'ss' samples have been generated. Trying again...\n",
      "No 'ss' samples have been generated. Trying again...\n",
      "No 'ss' samples have been generated. Trying again...\n",
      "No 'ss' samples have been generated. Trying again...\n",
      "No 'ss' samples have been generated. Trying again...\n",
      "No 'ss' samples have been generated. Trying again...\n",
      "No 'ss' samples have been generated. Trying again...\n",
      "No 'ss' samples have been generated. Trying again...\n",
      "No 'ss' samples have been generated. Trying again...\n",
      "No 'ss' samples have been generated. Trying again...\n",
      "No 'ss' samples have been generated. Trying again...\n",
      "No 'ss' samples have been generated. Trying again...\n",
      "No 'ss' samples have been generated. Trying again...\n",
      "No 'ss' samples have been generated. Trying again...\n",
      "No 'ss' samples have been generated. Trying again...\n",
      "No 'ss' samples have been generated. Trying again...\n",
      "No 'ss' samples have been generated. Trying again...\n",
      "No 'ss' samples have been generated. Trying again...\n",
      "No 'ss' samples have been generated. Trying again...\n",
      "No 'ss' samples have been generated. Trying again...\n",
      "No 'ss' samples have been generated. Trying again...\n",
      "No 'ss' samples have been generated. Trying again...\n",
      "No 'ss' samples have been generated. Trying again...\n",
      "No 'ss' samples have been generated. Trying again...\n"
     ]
    }
   ],
   "source": [
    "explanations = [] \n",
    "\n",
    "# First loop over idx_record2explain, generate explanation, and store the results in explanations\n",
    "for idx_record2explain in range(171):\n",
    "    explanation, infos = lore.explain(idx_record2explain, X2E, dataset, blackbox,\n",
    "                                      ng_function=genetic_neighborhood,\n",
    "                                      discrete_use_probabilities=True,\n",
    "                                      continuous_function_estimation=False,\n",
    "                                      returns_infos=True,\n",
    "                                      path=path_data, sep=';', log=False)\n",
    "    explanations.append((explanation, infos))"
   ]
  },
  {
   "cell_type": "code",
   "execution_count": 4,
   "id": "e8dfd754",
   "metadata": {},
   "outputs": [
    {
     "name": "stdout",
     "output_type": "stream",
     "text": [
      "mean_length: 2.7134502923976607\n",
      "maxlen: 8\n"
     ]
    }
   ],
   "source": [
    "# Then loop over k, and for each k iterate through all explanations\n",
    "for k in range(1, 31):\n",
    "    test_data = pd.read_csv('../../dataset/breast-cancer-wisconsin/test_data.csv')\n",
    "    bound = pd.read_csv('../../dataset/breast-cancer-wisconsin/bound.csv')\n",
    "    count = 0\n",
    "    maxlen = 0\n",
    "    \n",
    "    for idx_record2explain in range(171):\n",
    "        explanation, infos = explanations[idx_record2explain] # Use the previously stored explanation\n",
    "        dfX2E = build_df2explain(blackbox, X2E, dataset).to_dict('records')\n",
    "        dfx = dfX2E[idx_record2explain]\n",
    "        # x = build_df2explain(blackbox, X2E[idx_record2explain].reshape(1, -1), dataset).to_dict('records')[0]\n",
    "        keys_view = explanation[0][1].keys()\n",
    "        keys_list = list(keys_view)\n",
    "        length = len(keys_list)\n",
    "        count = count + length\n",
    "        if length > maxlen:\n",
    "            maxlen = length\n",
    "        if length > k:\n",
    "            for j in range(0,k):\n",
    "                test_data.at[idx_record2explain,keys_list[j]]=bound.at[1,keys_list[j]] + 10\n",
    "        elif length <= k:\n",
    "            for j in range(0,length):\n",
    "                test_data.at[idx_record2explain,keys_list[j]]=bound.at[1,keys_list[j]] + 10\n",
    "    filename = '../../explain_set/breast-cancer-wisconsin/data_enhan/lore/lore_explain_'+str(k)+'.csv'\n",
    "    test_data.to_csv(filename,index=False)\n",
    "    mean_length = count / 171\n",
    "print(\"mean_length:\",mean_length)\n",
    "print(\"maxlen:\",maxlen)"
   ]
  },
  {
   "cell_type": "code",
   "execution_count": null,
   "id": "7dc0ef8f",
   "metadata": {},
   "outputs": [],
   "source": []
  }
 ],
 "metadata": {
  "kernelspec": {
   "display_name": "Python 3 (ipykernel)",
   "language": "python",
   "name": "python3"
  },
  "language_info": {
   "codemirror_mode": {
    "name": "ipython",
    "version": 3
   },
   "file_extension": ".py",
   "mimetype": "text/x-python",
   "name": "python",
   "nbconvert_exporter": "python",
   "pygments_lexer": "ipython3",
   "version": "3.8.1"
  }
 },
 "nbformat": 4,
 "nbformat_minor": 5
}
