{
 "cells": [
  {
   "cell_type": "code",
   "execution_count": 9,
   "id": "2ed6fa01",
   "metadata": {},
   "outputs": [],
   "source": [
    "import lore\n",
    "\n",
    "from prepare_dataset import *\n",
    "from neighbor_generator import *\n",
    "\n",
    "from sklearn.model_selection import train_test_split\n",
    "\n",
    "warnings.filterwarnings(\"ignore\")"
   ]
  },
  {
   "cell_type": "code",
   "execution_count": 10,
   "id": "81e8418d",
   "metadata": {},
   "outputs": [],
   "source": [
    "path_data = '../../dataset/heart-disease/'\n",
    "\n",
    "dataset_name = 'heart-disease.csv'\n",
    "dataset = prepare_disease_dataset(dataset_name, path_data)\n",
    "\n",
    "X, y = dataset['X'], dataset['y']\n",
    "X_train, X_test, y_train, y_test = train_test_split(X, y, test_size=0.3, random_state=42)\n",
    "\n",
    "from sklearn.preprocessing import StandardScaler\n",
    "transform = StandardScaler()\n",
    "X_train[:, :6] = transform.fit_transform(X_train[:, :6])\n",
    "X_test[:, :6] = transform.transform(X_test[:, :6])\n",
    "\n",
    "noise_std = 0.2\n",
    "np.random.seed(0)\n",
    "X_test_noisy = X_test + noise_std * np.random.randn(*X_test.shape)\n",
    "\n",
    "import joblib\n",
    "blackbox = joblib.load('../../saved_model/heart-disease/MLP.pkl')\n",
    "\n",
    "X2E = X_test_noisy\n",
    "y2E = blackbox.predict(X2E)\n",
    "y2E = np.asarray([dataset['possible_outcomes'][i] for i in y2E])"
   ]
  },
  {
   "cell_type": "code",
   "execution_count": 11,
   "id": "ea727899",
   "metadata": {},
   "outputs": [],
   "source": [
    "explanations = [] \n",
    "\n",
    "# First loop over idx_record2explain, generate explanation, and store the results in explanations\n",
    "for idx_record2explain in range(90):\n",
    "    explanation, infos = lore.explain(idx_record2explain, X2E, dataset, blackbox,\n",
    "                                      ng_function=genetic_neighborhood,\n",
    "                                      discrete_use_probabilities=True,\n",
    "                                      continuous_function_estimation=False,\n",
    "                                      returns_infos=True,\n",
    "                                      path=path_data, sep=';', log=False)\n",
    "    explanations.append((explanation, infos))"
   ]
  },
  {
   "cell_type": "code",
   "execution_count": 12,
   "id": "6afc215f",
   "metadata": {},
   "outputs": [],
   "source": [
    "# Then loop over k, and for each k iterate through all explanations\n",
    "for k in range(1, 26):\n",
    "    test_data = pd.read_csv('../../dataset/heart-disease/test_data.csv')\n",
    "    bound = pd.read_csv('../../dataset/heart-disease/bound.csv')\n",
    "    for idx_record2explain in range(90):\n",
    "        explanation, infos = explanations[idx_record2explain] # Use the previously stored explanation\n",
    "        dfX2E = build_df2explain(blackbox, X2E, dataset).to_dict('records')\n",
    "        dfx = dfX2E[idx_record2explain]\n",
    "        # x = build_df2explain(blackbox, X2E[idx_record2explain].reshape(1, -1), dataset).to_dict('records')[0]\n",
    "        keys_view = explanation[0][1].keys()\n",
    "        keys_list = list(keys_view)\n",
    "        length = len(keys_list)\n",
    "        if length > k:\n",
    "            for j in range(0,k):\n",
    "                test_data.at[idx_record2explain,keys_list[j]]=bound.at[1,keys_list[j]]\n",
    "        elif length <= k:\n",
    "            for j in range(0,length):\n",
    "                test_data.at[idx_record2explain,keys_list[j]]=bound.at[1,keys_list[j]]\n",
    "    filename = '../../explain_set/heart-disease/MLP/lore/noise/lore_explain_'+str(k)+'.csv'\n",
    "    test_data.to_csv(filename,index=False)"
   ]
  },
  {
   "cell_type": "code",
   "execution_count": null,
   "id": "ca050772",
   "metadata": {},
   "outputs": [],
   "source": []
  }
 ],
 "metadata": {
  "kernelspec": {
   "display_name": "Python 3 (ipykernel)",
   "language": "python",
   "name": "python3"
  },
  "language_info": {
   "codemirror_mode": {
    "name": "ipython",
    "version": 3
   },
   "file_extension": ".py",
   "mimetype": "text/x-python",
   "name": "python",
   "nbconvert_exporter": "python",
   "pygments_lexer": "ipython3",
   "version": "3.8.1"
  }
 },
 "nbformat": 4,
 "nbformat_minor": 5
}
