{
 "cells": [
  {
   "cell_type": "code",
   "execution_count": 3,
   "id": "435fe820",
   "metadata": {},
   "outputs": [],
   "source": [
    "import pandas as pd\n",
    "from sklearn.preprocessing import LabelEncoder\n",
    "from sklearn.model_selection import train_test_split\n",
    "from sklearn.preprocessing import StandardScaler\n",
    "\n",
    "df = pd.read_csv('dataset/breast-cancer-wisconsin/breast-cancer-wisconsin.csv')\n",
    "X = df.drop('diagnosis',axis=1)\n",
    "y=df['diagnosis']\n",
    "feature_names = X.columns\n",
    "\n",
    "le = LabelEncoder()\n",
    "y = le.fit_transform(y)\n",
    "\n",
    "X_train, X_test, y_train, y_test = train_test_split(X, y, test_size=0.3, random_state=42)\n",
    "\n",
    "transform = StandardScaler()\n",
    "X_train = transform.fit_transform(X_train)\n",
    "X_test = transform.transform(X_test)\n",
    "\n",
    "means = transform.mean_  # mean before standardization\n",
    "stds = transform.scale_   # standard deviation before standardization\n",
    "\n",
    "bound = pd.read_csv('dataset/breast-cancer-wisconsin/bound.csv')\n",
    "\n",
    "bound_standardized = bound.copy() \n",
    "\n",
    "for i in range(bound.shape[0]):\n",
    "    outliers = bound.iloc[i, :].values\n",
    "    outliers_standardized = (outliers - means) / stds\n",
    "    bound_standardized.iloc[i, :] = outliers_standardized\n",
    "\n",
    "bound_standardized.to_csv('dataset/breast-cancer-wisconsin/bound_standardized.csv', index=False)"
   ]
  },
  {
   "cell_type": "code",
   "execution_count": null,
   "id": "89189a3d-30a2-4f69-bab1-926cb59c188f",
   "metadata": {},
   "outputs": [],
   "source": []
  }
 ],
 "metadata": {
  "kernelspec": {
   "display_name": "Python 3 (ipykernel)",
   "language": "python",
   "name": "python3"
  },
  "language_info": {
   "codemirror_mode": {
    "name": "ipython",
    "version": 3
   },
   "file_extension": ".py",
   "mimetype": "text/x-python",
   "name": "python",
   "nbconvert_exporter": "python",
   "pygments_lexer": "ipython3",
   "version": "3.11.7"
  }
 },
 "nbformat": 4,
 "nbformat_minor": 5
}
