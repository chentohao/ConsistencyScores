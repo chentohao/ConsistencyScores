{
 "cells": [
  {
   "cell_type": "code",
   "execution_count": 7,
   "id": "4426f732",
   "metadata": {},
   "outputs": [],
   "source": [
    "import warnings\n",
    "warnings.filterwarnings(\"ignore\")\n",
    "\n",
    "import numpy as np\n",
    "import pandas as pd\n",
    "\n",
    "df = pd.read_csv('dataset/heart-disease/heart-disease.csv')\n",
    "\n",
    "X = df.drop('target',axis=1)\n",
    "\n",
    "y=df['target']\n",
    "\n",
    "feature_names = X.columns\n",
    "\n",
    "from sklearn.model_selection import train_test_split\n",
    "X_train, X_test, y_train, y_test = train_test_split(X, y, test_size=0.3, random_state=42)\n",
    "\n",
    "from sklearn.preprocessing import StandardScaler\n",
    "transform = StandardScaler()\n",
    "X_train[['age', 'trestbps', 'chol', 'thalach', 'oldpeak', 'ca']] = transform.fit_transform(X_train[['age', 'trestbps', 'chol', 'thalach', 'oldpeak', 'ca']])\n",
    "X_test[['age', 'trestbps', 'chol', 'thalach', 'oldpeak', 'ca']] = transform.transform(X_test[['age', 'trestbps', 'chol', 'thalach', 'oldpeak', 'ca']])\n",
    "\n",
    "import joblib\n",
    "model = joblib.load('saved_model/heart-disease/MLP.pkl')\n",
    "\n",
    "y_pred = model.predict(X_test)\n",
    "y_pred_proba = model.predict_proba(X_test)"
   ]
  },
  {
   "cell_type": "code",
   "execution_count": 8,
   "id": "54a25ac6",
   "metadata": {},
   "outputs": [
    {
     "name": "stdout",
     "output_type": "stream",
     "text": [
      "<class 'pandas.core.frame.DataFrame'>\n",
      "RangeIndex: 297 entries, 0 to 296\n",
      "Data columns (total 26 columns):\n",
      " #   Column                                Non-Null Count  Dtype  \n",
      "---  ------                                --------------  -----  \n",
      " 0   age                                   297 non-null    int64  \n",
      " 1   trestbps                              297 non-null    int64  \n",
      " 2   chol                                  297 non-null    int64  \n",
      " 3   thalach                               297 non-null    int64  \n",
      " 4   oldpeak                               297 non-null    float64\n",
      " 5   ca                                    297 non-null    int64  \n",
      " 6   sex_female                            297 non-null    int64  \n",
      " 7   sex_male                              297 non-null    int64  \n",
      " 8   cp_asymptomatic                       297 non-null    int64  \n",
      " 9   cp_atypical angina                    297 non-null    int64  \n",
      " 10  cp_non-anginal pain                   297 non-null    int64  \n",
      " 11  cp_typical angina                     297 non-null    int64  \n",
      " 12  fbs_false                             297 non-null    int64  \n",
      " 13  fbs_true                              297 non-null    int64  \n",
      " 14  restecg_having ST-T wave abnormality  297 non-null    int64  \n",
      " 15  restecg_left ventricular hypertrophy  297 non-null    int64  \n",
      " 16  restecg_nomal                         297 non-null    int64  \n",
      " 17  exang_no                              297 non-null    int64  \n",
      " 18  exang_yes                             297 non-null    int64  \n",
      " 19  slope_downsloping                     297 non-null    int64  \n",
      " 20  slope_flat                            297 non-null    int64  \n",
      " 21  slope_upsloping                       297 non-null    int64  \n",
      " 22  thal_fixed defect                     297 non-null    int64  \n",
      " 23  thal_normal                           297 non-null    int64  \n",
      " 24  thal_reversable defect                297 non-null    int64  \n",
      " 25  target                                297 non-null    int64  \n",
      "dtypes: float64(1), int64(25)\n",
      "memory usage: 60.5 KB\n"
     ]
    }
   ],
   "source": [
    "df.info()"
   ]
  },
  {
   "cell_type": "code",
   "execution_count": 9,
   "id": "e75d9f14",
   "metadata": {
    "scrolled": false
   },
   "outputs": [],
   "source": [
    "from anchor import anchor_tabular\n",
    "class_names=['Healthy', 'Disease']\n",
    "categorical_names = {\n",
    "    6: ['no', 'yes'], 7: ['no', 'yes'], 8: ['no', 'yes'], 9: ['no', 'yes'], 10: ['no', 'yes'], 11: ['no', 'yes'], 12: ['no', 'yes'], 13: ['no', 'yes'], 14: ['no', 'yes'], 15: ['no', 'yes'],\n",
    "    16: ['no', 'yes'], 17: ['no', 'yes'], 18: ['no', 'yes'], 19: ['no', 'yes'], 20: ['no', 'yes'], 21: ['no', 'yes'], 22: ['no', 'yes'], 23: ['no', 'yes'], 24: ['no', 'yes']\n",
    "}\n",
    "explainer = anchor_tabular.AnchorTabularExplainer(\n",
    "    class_names,\n",
    "    feature_names,\n",
    "    np.array(X_train),\n",
    "    categorical_names)"
   ]
  },
  {
   "cell_type": "code",
   "execution_count": 10,
   "id": "f4f9d2e4",
   "metadata": {},
   "outputs": [],
   "source": [
    "explanations = [] \n",
    "\n",
    "# First loop over idx, generate explanation, and store the results in explanations\n",
    "for idx in range(90):\n",
    "    exp = explainer.explain_instance(X_test.iloc[idx].values.reshape(1, -1), model.predict,threshold=0.95)\n",
    "    explanations.append(exp)"
   ]
  },
  {
   "cell_type": "code",
   "execution_count": 11,
   "id": "d73626e6",
   "metadata": {},
   "outputs": [
    {
     "name": "stdout",
     "output_type": "stream",
     "text": [
      "mean_length: 3.2555555555555555\n",
      "maxlen: 6\n"
     ]
    }
   ],
   "source": [
    "# Then loop over k, and for each k iterate through all explanations\n",
    "for k in range(1, 26):\n",
    "    test_data = pd.read_csv('dataset/heart-disease/test_data.csv')\n",
    "    bound = pd.read_csv('dataset/heart-disease/bound.csv')\n",
    "    count = 0\n",
    "    maxlen = 0\n",
    "    for idx in range(90):\n",
    "        exp = explanations[idx] # Use the previously stored explanation\n",
    "        lista = exp.features()\n",
    "        length = len(lista)\n",
    "        count = count + length\n",
    "        if length > maxlen:\n",
    "            maxlen = length\n",
    "        if length > k:\n",
    "            for j in range(0,k):\n",
    "                test_data.iat[idx,lista[j]]=bound.iat[1,lista[j]]\n",
    "        elif length <= k:\n",
    "            for j in range(0,length):\n",
    "                test_data.iat[idx,lista[j]]=bound.iat[1,lista[j]]\n",
    "    filename = 'explain_set/heart-disease/MLP/anchor/anchor_explain_'+str(k)+'.csv'\n",
    "    test_data.to_csv(filename,index=False)\n",
    "    mean_length = count / 90\n",
    "print(\"mean_length:\",mean_length)\n",
    "print(\"maxlen:\",maxlen)"
   ]
  },
  {
   "cell_type": "code",
   "execution_count": 12,
   "id": "1d29a5a2",
   "metadata": {},
   "outputs": [
    {
     "name": "stdout",
     "output_type": "stream",
     "text": [
      "mean_length: 3.2555555555555555\n",
      "maxlen: 6\n"
     ]
    }
   ],
   "source": [
    "for k in range(1, 26):\n",
    "    test_data = pd.read_csv('dataset/heart-disease/test_data.csv')\n",
    "    keep_temp = pd.read_csv('dataset/heart-disease/keep_temp.csv')\n",
    "    count = 0\n",
    "    maxlen = 0\n",
    "    for idx in range(90):\n",
    "        exp = explanations[idx] # Use the previously stored explanation\n",
    "        lista = exp.features()\n",
    "        length = len(lista)\n",
    "        count = count + length\n",
    "        if length > maxlen:\n",
    "            maxlen = length\n",
    "        if length > k:\n",
    "            for j in range(0,k):\n",
    "                keep_temp.iat[idx,lista[j]]=test_data.iat[idx,lista[j]]\n",
    "        elif length <= k:\n",
    "            for j in range(0,length):\n",
    "                keep_temp.iat[idx,lista[j]]=test_data.iat[idx,lista[j]]\n",
    "    filename = 'explain_set/heart-disease/MLP/keep/anchor/anchor_explain_'+str(k)+'.csv'\n",
    "    keep_temp.to_csv(filename,index=False)\n",
    "    mean_length = count / 90\n",
    "print(\"mean_length:\",mean_length)\n",
    "print(\"maxlen:\",maxlen)"
   ]
  },
  {
   "cell_type": "code",
   "execution_count": null,
   "id": "a56e98f7",
   "metadata": {},
   "outputs": [],
   "source": []
  }
 ],
 "metadata": {
  "kernelspec": {
   "display_name": "Python 3 (ipykernel)",
   "language": "python",
   "name": "python3"
  },
  "language_info": {
   "codemirror_mode": {
    "name": "ipython",
    "version": 3
   },
   "file_extension": ".py",
   "mimetype": "text/x-python",
   "name": "python",
   "nbconvert_exporter": "python",
   "pygments_lexer": "ipython3",
   "version": "3.8.1"
  }
 },
 "nbformat": 4,
 "nbformat_minor": 5
}
