{
 "cells": [
  {
   "cell_type": "code",
   "execution_count": 26,
   "id": "f73c9258",
   "metadata": {},
   "outputs": [],
   "source": [
    "import warnings\n",
    "warnings.filterwarnings(\"ignore\")\n",
    "\n",
    "import numpy as np\n",
    "import pandas as pd\n",
    "\n",
    "df_train = pd.read_csv('dataset/breast-cancer-wisconsin/train_data.csv')\n",
    "X_train = df_train.drop('diagnosis',axis=1)\n",
    "y_train = df_train['diagnosis']\n",
    "\n",
    "feature_names = X_train.columns\n",
    "\n",
    "df_test = pd.read_csv('dataset/breast-cancer-wisconsin/test_case/test_case_mlp_lower.csv')\n",
    "X_test = df_test.drop('diagnosis',axis=1)\n",
    "y_test = df_test['diagnosis']\n",
    "\n",
    "test_row_count = df_test.shape[0]\n",
    "\n",
    "from sklearn.preprocessing import StandardScaler\n",
    "transform = StandardScaler()\n",
    "X_train = transform.fit_transform(X_train)\n",
    "X_test = transform.transform(X_test)\n",
    "\n",
    "noise_std = 0.2\n",
    "np.random.seed(0)\n",
    "X_test_noisy = X_test + noise_std * np.random.randn(*X_test.shape)"
   ]
  },
  {
   "cell_type": "code",
   "execution_count": 27,
   "id": "9827b723",
   "metadata": {},
   "outputs": [],
   "source": [
    "import joblib\n",
    "model = joblib.load('saved_model/breast-cancer-wisconsin/MLP.pkl')\n",
    "\n",
    "y_pred = model.predict(X_test_noisy)\n",
    "y_pred_proba = model.predict_proba(X_test_noisy)"
   ]
  },
  {
   "cell_type": "code",
   "execution_count": 28,
   "id": "c877b1b3",
   "metadata": {},
   "outputs": [],
   "source": [
    "import lime\n",
    "from lime import lime_tabular\n",
    "explainer = lime_tabular.LimeTabularExplainer(\n",
    "    training_data=np.array(X_train),\n",
    "    feature_names=feature_names,\n",
    "    class_names=['Benign','Malignant'],\n",
    "    mode='classification'\n",
    ")"
   ]
  },
  {
   "cell_type": "code",
   "execution_count": 29,
   "id": "ea727899",
   "metadata": {},
   "outputs": [],
   "source": [
    "explanations = [] \n",
    "\n",
    "# First loop over idx, generate explanation, and store the results in explanations\n",
    "for idx in range(test_row_count):\n",
    "    exp = explainer.explain_instance(\n",
    "            data_row=X_test_noisy[idx], \n",
    "            predict_fn=model.predict_proba,\n",
    "            num_features = 30\n",
    "        )\n",
    "    explanations.append(exp)"
   ]
  },
  {
   "cell_type": "code",
   "execution_count": 30,
   "id": "c6a61630",
   "metadata": {},
   "outputs": [],
   "source": [
    "for k in range(3, 4):\n",
    "    test_data = pd.read_csv('dataset/breast-cancer-wisconsin/test_case/test_case_mlp_lower_noise.csv')\n",
    "    bound_standardized = pd.read_csv('dataset/breast-cancer-wisconsin/bound_standardized.csv')\n",
    "    for idx in range(test_row_count):\n",
    "        exp = explanations[idx] # Use the previously stored explanation\n",
    "        mapa = exp.as_map().values()\n",
    "        lista = list(mapa)[0]\n",
    "        for j in range(k):\n",
    "            s = lista[j]\n",
    "            test_data.iat[idx,s[0]+1]=bound_standardized.iat[0,s[0]]\n",
    "    filename = 'explain_set_lower/breast-cancer-wisconsin/MLP/lime/noise/test_case/lime_explain_'+str(k)+'.csv'\n",
    "    test_data.to_csv(filename,index=False)"
   ]
  },
  {
   "cell_type": "code",
   "execution_count": null,
   "id": "ca050772",
   "metadata": {},
   "outputs": [],
   "source": []
  }
 ],
 "metadata": {
  "kernelspec": {
   "display_name": "Python 3 (ipykernel)",
   "language": "python",
   "name": "python3"
  },
  "language_info": {
   "codemirror_mode": {
    "name": "ipython",
    "version": 3
   },
   "file_extension": ".py",
   "mimetype": "text/x-python",
   "name": "python",
   "nbconvert_exporter": "python",
   "pygments_lexer": "ipython3",
   "version": "3.11.7"
  }
 },
 "nbformat": 4,
 "nbformat_minor": 5
}
