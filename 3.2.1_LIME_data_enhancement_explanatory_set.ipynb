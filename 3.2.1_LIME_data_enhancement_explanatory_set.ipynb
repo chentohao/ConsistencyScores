{
 "cells": [
  {
   "cell_type": "code",
   "execution_count": 1,
   "id": "4426f732",
   "metadata": {},
   "outputs": [
    {
     "name": "stdout",
     "output_type": "stream",
     "text": [
      "Confusion Matrix:\n",
      " [[105   3]\n",
      " [  3  60]]\n",
      "              precision    recall  f1-score   support\n",
      "\n",
      "      Benign       0.97      0.97      0.97       108\n",
      "   Malignant       0.95      0.95      0.95        63\n",
      "\n",
      "    accuracy                           0.96       171\n",
      "   macro avg       0.96      0.96      0.96       171\n",
      "weighted avg       0.96      0.96      0.96       171\n",
      "\n"
     ]
    }
   ],
   "source": [
    "import warnings\n",
    "warnings.filterwarnings(\"ignore\")\n",
    "\n",
    "import numpy as np\n",
    "import pandas as pd\n",
    "\n",
    "df = pd.read_csv('dataset/breast-cancer-wisconsin/breast-cancer-wisconsin.csv')\n",
    "\n",
    "X = df.drop('diagnosis',axis=1)\n",
    "\n",
    "y=df['diagnosis']\n",
    "\n",
    "feature_names = X.columns\n",
    "\n",
    "from sklearn.preprocessing import LabelEncoder\n",
    "le = LabelEncoder()\n",
    "y = le.fit_transform(y)\n",
    "\n",
    "df_train = pd.read_csv('dataset/breast-cancer-wisconsin/train_data.csv')\n",
    "X_train = df_train.drop('diagnosis',axis=1)\n",
    "y_train = df_train['diagnosis']\n",
    "\n",
    "df_test = pd.read_csv('dataset/breast-cancer-wisconsin/test_data.csv')\n",
    "X_test = df_test.drop('diagnosis',axis=1)\n",
    "y_test = df_test['diagnosis']\n",
    "\n",
    "#数据增强\n",
    "df_enhan = pd.read_csv('data_enhan/breast-cancer-wisconsin/lime/lime_enhan.csv')\n",
    "X_enhan = df_enhan.drop('diagnosis',axis=1)\n",
    "y_enhan=df_enhan['diagnosis']\n",
    "y_enhan.to_numpy()\n",
    "X_train = pd.concat([X_train,X_enhan],ignore_index=True)\n",
    "y_train = np.concatenate((y_train, y_enhan))\n",
    "\n",
    "from sklearn.preprocessing import StandardScaler\n",
    "transform = StandardScaler()\n",
    "X_train = transform.fit_transform(X_train)\n",
    "X_test = transform.transform(X_test)\n",
    "\n",
    "import joblib\n",
    "from sklearn.ensemble import RandomForestClassifier\n",
    "model = RandomForestClassifier(n_estimators=100, random_state=42) \n",
    "model.fit(X_train, y_train)\n",
    "joblib.dump(model,'saved_model/breast-cancer-wisconsin/enhance_model/lime/lime_enhan_model.pkl')\n",
    "\n",
    "y_pred = model.predict(X_test)\n",
    "y_pred_proba = model.predict_proba(X_test)\n",
    "\n",
    "from sklearn.metrics import confusion_matrix\n",
    "confusion_matrix_model = confusion_matrix(y_test,y_pred)\n",
    "print(\"Confusion Matrix:\\n\", confusion_matrix_model)\n",
    "\n",
    "from sklearn.metrics import classification_report\n",
    "print(classification_report(y_test,y_pred,target_names=['Benign','Malignant']))"
   ]
  },
  {
   "cell_type": "code",
   "execution_count": 2,
   "id": "e75d9f14",
   "metadata": {
    "scrolled": false
   },
   "outputs": [],
   "source": [
    "import lime\n",
    "from lime import lime_tabular\n",
    "explainer = lime_tabular.LimeTabularExplainer(\n",
    "    training_data=np.array(X_train), # 训练集特征，必须是 numpy 的 Array\n",
    "    feature_names=feature_names, # 特征列名\n",
    "    class_names=['Benign','Malignant'], # 预测类别名称\n",
    "    mode='classification' # 分类模式\n",
    ")"
   ]
  },
  {
   "cell_type": "code",
   "execution_count": 3,
   "id": "2d04adcd",
   "metadata": {},
   "outputs": [],
   "source": [
    "explanations = [] \n",
    "\n",
    "# First loop over idx, generate explanation, and store the results in explanations\n",
    "for idx in range(171):\n",
    "    exp = explainer.explain_instance(\n",
    "            data_row=X_test[idx], \n",
    "            predict_fn=model.predict_proba,\n",
    "            num_features = 30\n",
    "        )\n",
    "    explanations.append(exp)"
   ]
  },
  {
   "cell_type": "code",
   "execution_count": 4,
   "id": "32dc0948",
   "metadata": {},
   "outputs": [],
   "source": [
    "for k in range(1, 31):\n",
    "    test_data = pd.read_csv('dataset/breast-cancer-wisconsin/test_data.csv')\n",
    "    bound = pd.read_csv('dataset/breast-cancer-wisconsin/bound.csv')\n",
    "    for idx in range(171):\n",
    "        exp = explanations[idx] # Use the previously stored explanation\n",
    "        mapa = exp.as_map().values()\n",
    "        lista = list(mapa)[0]\n",
    "        for j in range(0,k):\n",
    "            s = lista[j]\n",
    "            test_data.iat[idx,s[0]+1]=bound.iat[1,s[0]]+10\n",
    "    filename = 'explain_set/breast-cancer-wisconsin/data_enhan/lime/lime_explain_'+str(k)+'.csv'\n",
    "    test_data.to_csv(filename,index=False)"
   ]
  },
  {
   "cell_type": "code",
   "execution_count": null,
   "id": "3f2284fa",
   "metadata": {},
   "outputs": [],
   "source": []
  }
 ],
 "metadata": {
  "kernelspec": {
   "display_name": "Python 3 (ipykernel)",
   "language": "python",
   "name": "python3"
  },
  "language_info": {
   "codemirror_mode": {
    "name": "ipython",
    "version": 3
   },
   "file_extension": ".py",
   "mimetype": "text/x-python",
   "name": "python",
   "nbconvert_exporter": "python",
   "pygments_lexer": "ipython3",
   "version": "3.8.1"
  }
 },
 "nbformat": 4,
 "nbformat_minor": 5
}
