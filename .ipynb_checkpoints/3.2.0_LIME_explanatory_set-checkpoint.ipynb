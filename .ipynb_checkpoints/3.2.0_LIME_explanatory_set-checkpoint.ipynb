{
 "cells": [
  {
   "cell_type": "code",
   "execution_count": 16,
   "id": "4426f732",
   "metadata": {},
   "outputs": [],
   "source": [
    "import warnings\n",
    "warnings.filterwarnings(\"ignore\")\n",
    "\n",
    "import numpy as np\n",
    "import pandas as pd\n",
    "\n",
    "df = pd.read_csv('dataset/heart-disease/heart-disease.csv')\n",
    "\n",
    "X = df.drop('target',axis=1)\n",
    "\n",
    "y=df['target']\n",
    "\n",
    "feature_names = X.columns\n",
    "\n",
    "from sklearn.model_selection import train_test_split\n",
    "X_train, X_test, y_train, y_test = train_test_split(X, y, test_size=0.3, random_state=42)\n",
    "\n",
    "from sklearn.preprocessing import StandardScaler\n",
    "transform = StandardScaler()\n",
    "X_train[['age', 'trestbps', 'chol', 'thalach', 'oldpeak', 'ca']] = transform.fit_transform(X_train[['age', 'trestbps', 'chol', 'thalach', 'oldpeak', 'ca']])\n",
    "X_test[['age', 'trestbps', 'chol', 'thalach', 'oldpeak', 'ca']] = transform.transform(X_test[['age', 'trestbps', 'chol', 'thalach', 'oldpeak', 'ca']])\n",
    "\n",
    "import joblib\n",
    "model = joblib.load('saved_model/heart-disease/MLP.pkl')\n",
    "\n",
    "y_pred = model.predict(X_test)\n",
    "y_pred_proba = model.predict_proba(X_test)"
   ]
  },
  {
   "cell_type": "code",
   "execution_count": 17,
   "id": "e02e2fc2",
   "metadata": {},
   "outputs": [],
   "source": [
    "import lime\n",
    "from lime import lime_tabular\n",
    "explainer = lime_tabular.LimeTabularExplainer(\n",
    "    training_data=np.array(X_train),\n",
    "    feature_names=feature_names,\n",
    "    class_names=['Healthy', 'Disease'],\n",
    "    mode='classification'\n",
    ")"
   ]
  },
  {
   "cell_type": "code",
   "execution_count": 18,
   "id": "65a217d5",
   "metadata": {},
   "outputs": [],
   "source": [
    "explanations = [] \n",
    "\n",
    "# First loop over idx, generate explanation, and store the results in explanations\n",
    "for idx in range(90):\n",
    "    exp = explainer.explain_instance(\n",
    "            data_row=X_test.iloc[idx], \n",
    "            predict_fn=model.predict_proba,\n",
    "            num_features = 25\n",
    "        )\n",
    "    explanations.append(exp)"
   ]
  },
  {
   "cell_type": "code",
   "execution_count": 19,
   "id": "e75d9f14",
   "metadata": {
    "scrolled": false
   },
   "outputs": [],
   "source": [
    "for k in range(1, 26):\n",
    "    test_data = pd.read_csv('dataset/heart-disease/test_data.csv')\n",
    "    bound = pd.read_csv('dataset/heart-disease/bound.csv')\n",
    "    for idx in range(90):\n",
    "        exp = explanations[idx]\n",
    "        mapa = exp.as_map().values()\n",
    "        lista = list(mapa)[0]\n",
    "        for j in range(0,k):\n",
    "            s = lista[j]\n",
    "            test_data.iat[idx,s[0]]=bound.iat[1,s[0]]\n",
    "    filename = 'explain_set/heart-disease/MLP/lime/lime_explain_'+str(k)+'.csv'\n",
    "    test_data.to_csv(filename,index=False)"
   ]
  },
  {
   "cell_type": "code",
   "execution_count": 20,
   "id": "7783464c",
   "metadata": {},
   "outputs": [],
   "source": [
    "for k in range(1, 26):\n",
    "    test_data = pd.read_csv('dataset/heart-disease/test_data.csv')\n",
    "    bound = pd.read_csv('dataset/heart-disease/bound.csv')\n",
    "    for idx in range(90):\n",
    "        exp = explanations[idx]\n",
    "        mapa = exp.as_map().values()\n",
    "        lista = list(mapa)[0]\n",
    "        for j in range(k,25):\n",
    "            s = lista[j]\n",
    "            test_data.iat[idx,s[0]]=bound.iat[1,s[0]]\n",
    "    filename = 'explain_set/heart-disease/MLP/keep/lime/lime_explain_'+str(k)+'.csv'\n",
    "    test_data.to_csv(filename,index=False)"
   ]
  }
 ],
 "metadata": {
  "kernelspec": {
   "display_name": "Python 3 (ipykernel)",
   "language": "python",
   "name": "python3"
  },
  "language_info": {
   "codemirror_mode": {
    "name": "ipython",
    "version": 3
   },
   "file_extension": ".py",
   "mimetype": "text/x-python",
   "name": "python",
   "nbconvert_exporter": "python",
   "pygments_lexer": "ipython3",
   "version": "3.8.1"
  }
 },
 "nbformat": 4,
 "nbformat_minor": 5
}
