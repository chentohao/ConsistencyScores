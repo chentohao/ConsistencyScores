{
 "cells": [
  {
   "cell_type": "code",
   "execution_count": 3313,
   "id": "e449bb5b",
   "metadata": {},
   "outputs": [],
   "source": [
    "import warnings\n",
    "warnings.filterwarnings(\"ignore\")\n",
    "\n",
    "import numpy as np\n",
    "import pandas as pd\n",
    "\n",
    "df = pd.read_csv('explain_set/heart-disease/MLP/keep/lore/lore_explain_25.csv')\n",
    "X_train = df.drop('target',axis=1)\n",
    "y_train=df['target']\n",
    "\n",
    "df2 = pd.read_csv('dataset/heart-disease/train_data.csv')\n",
    "X_test = df2.drop('target',axis=1)\n",
    "y_test=df2['target']\n",
    "\n",
    "feature_names = X_train.columns\n",
    "\n",
    "from sklearn.preprocessing import StandardScaler\n",
    "transform = StandardScaler()\n",
    "X_train[['age', 'trestbps', 'chol', 'thalach', 'oldpeak', 'ca']] = transform.fit_transform(X_train[['age', 'trestbps', 'chol', 'thalach', 'oldpeak', 'ca']])\n",
    "X_test[['age', 'trestbps', 'chol', 'thalach', 'oldpeak', 'ca']] = transform.transform(X_test[['age', 'trestbps', 'chol', 'thalach', 'oldpeak', 'ca']])\n",
    "\n",
    "from sklearn.ensemble import RandomForestClassifier\n",
    "#model = RandomForestClassifier(n_estimators=100, random_state=42) \n",
    "\n",
    "from sklearn import svm\n",
    "#model = svm.SVC(C=1.0,kernel='rbf',probability=True, random_state=42)\n",
    "\n",
    "from sklearn.neural_network import MLPClassifier\n",
    "model = MLPClassifier(hidden_layer_sizes=(128,128,128),random_state=42)\n",
    "\n",
    "model.fit(X_train, y_train)\n",
    "\n",
    "y_pred = model.predict(X_test)\n",
    "y_pred_proba = model.predict_proba(X_test)"
   ]
  },
  {
   "cell_type": "code",
   "execution_count": 3314,
   "id": "28478819",
   "metadata": {},
   "outputs": [
    {
     "name": "stdout",
     "output_type": "stream",
     "text": [
      "Confusion Matrix:\n",
      " [[108   3]\n",
      " [ 70  26]]\n",
      "              precision    recall  f1-score   support\n",
      "\n",
      "     Healthy       0.61      0.97      0.75       111\n",
      "     Disease       0.90      0.27      0.42        96\n",
      "\n",
      "    accuracy                           0.65       207\n",
      "   macro avg       0.75      0.62      0.58       207\n",
      "weighted avg       0.74      0.65      0.59       207\n",
      "\n"
     ]
    }
   ],
   "source": [
    "from sklearn.metrics import confusion_matrix\n",
    "confusion_matrix_model = confusion_matrix(y_test,y_pred)\n",
    "print(\"Confusion Matrix:\\n\", confusion_matrix_model)\n",
    "from sklearn.metrics import classification_report\n",
    "print(classification_report(y_test,y_pred,target_names=['Healthy', 'Disease']))"
   ]
  },
  {
   "cell_type": "code",
   "execution_count": 3315,
   "id": "196f4431",
   "metadata": {},
   "outputs": [],
   "source": [
    "df0 = pd.read_csv('dataset/heart-disease/test_data.csv')\n",
    "X_train0 = df0.drop('target',axis=1)\n",
    "y_train0=df0['target']\n",
    "\n",
    "X_test02 = df2.drop('target',axis=1)\n",
    "y_test02=df2['target']\n",
    "\n",
    "X_train0[['age', 'trestbps', 'chol', 'thalach', 'oldpeak', 'ca']] = transform.fit_transform(X_train0[['age', 'trestbps', 'chol', 'thalach', 'oldpeak', 'ca']])\n",
    "X_test02[['age', 'trestbps', 'chol', 'thalach', 'oldpeak', 'ca']] = transform.transform(X_test02[['age', 'trestbps', 'chol', 'thalach', 'oldpeak', 'ca']])\n",
    "\n",
    "#model0 = RandomForestClassifier(n_estimators=100, random_state=42) \n",
    "#model0 = svm.SVC(C=1.0,kernel='rbf',probability=True, random_state=42)\n",
    "model0 = MLPClassifier(hidden_layer_sizes=(128,128,128),random_state=42)\n",
    "model0.fit(X_train0, y_train0)\n",
    "\n",
    "y_init_pred = model0.predict(X_test02)\n",
    "y_init_pred_proba = model0.predict_proba(X_test02)"
   ]
  },
  {
   "cell_type": "code",
   "execution_count": 3316,
   "id": "8cc5a460",
   "metadata": {},
   "outputs": [
    {
     "name": "stdout",
     "output_type": "stream",
     "text": [
      "Confusion Matrix:\n",
      " [[75 36]\n",
      " [14 82]]\n",
      "              precision    recall  f1-score   support\n",
      "\n",
      "     Healthy       0.84      0.68      0.75       111\n",
      "     Disease       0.69      0.85      0.77        96\n",
      "\n",
      "    accuracy                           0.76       207\n",
      "   macro avg       0.77      0.76      0.76       207\n",
      "weighted avg       0.77      0.76      0.76       207\n",
      "\n"
     ]
    }
   ],
   "source": [
    "confusion_matrix_model0 = confusion_matrix(y_test02,y_init_pred)\n",
    "print(\"Confusion Matrix:\\n\", confusion_matrix_model0)\n",
    "print(classification_report(y_test02,y_init_pred,target_names=['Healthy', 'Disease']))"
   ]
  },
  {
   "cell_type": "code",
   "execution_count": 3317,
   "id": "90848a10",
   "metadata": {},
   "outputs": [
    {
     "data": {
      "text/plain": [
       "array([0, 1, 0, 0, 0, 0, 0, 0, 0, 0, 0, 0, 0, 0, 0, 0, 0, 0, 0, 0, 0, 0,\n",
       "       0, 0, 0, 0, 0, 1, 1, 0, 0, 0, 1, 1, 0, 0, 0, 0, 0, 0, 0, 0, 0, 1,\n",
       "       1, 1, 1, 0, 0, 1, 0, 1, 1, 0, 0, 0, 0, 0, 1, 1, 0, 0, 0, 0, 1, 0,\n",
       "       0, 0, 0, 0, 0, 0, 0, 0, 0, 0, 1, 1, 0, 0, 0, 0, 0, 0, 0, 0, 0, 0,\n",
       "       0, 0, 0, 0, 0, 0, 0, 0, 0, 0, 1, 0, 0, 0, 0, 0, 0, 0, 0, 1, 0, 0,\n",
       "       0, 0, 0, 0, 1, 1, 0, 0, 0, 0, 1, 0, 0, 0, 0, 0, 0, 0, 0, 1, 0, 0,\n",
       "       0, 0, 0, 0, 0, 0, 1, 0, 0, 0, 0, 0, 0, 0, 0, 0, 0, 0, 0, 0, 0, 1,\n",
       "       0, 0, 0, 0, 0, 1, 0, 0, 0, 0, 0, 0, 0, 0, 0, 0, 0, 0, 0, 0, 0, 0,\n",
       "       0, 0, 0, 0, 1, 1, 0, 0, 0, 0, 0, 0, 0, 0, 0, 0, 0, 0, 0, 0, 0, 0,\n",
       "       0, 0, 0, 1, 0, 0, 0, 0, 0], dtype=int64)"
      ]
     },
     "execution_count": 3317,
     "metadata": {},
     "output_type": "execute_result"
    }
   ],
   "source": [
    "y_pred"
   ]
  },
  {
   "cell_type": "code",
   "execution_count": 3318,
   "id": "d061c076",
   "metadata": {},
   "outputs": [
    {
     "data": {
      "text/plain": [
       "array([1, 1, 0, 1, 0, 1, 1, 0, 0, 1, 1, 0, 1, 0, 0, 1, 1, 1, 1, 0, 1, 1,\n",
       "       1, 0, 1, 1, 1, 1, 1, 0, 1, 1, 1, 1, 1, 0, 1, 1, 1, 1, 1, 1, 0, 1,\n",
       "       1, 1, 1, 0, 1, 1, 1, 1, 1, 0, 1, 1, 1, 0, 1, 0, 1, 1, 0, 1, 1, 1,\n",
       "       0, 1, 1, 0, 0, 1, 1, 0, 1, 1, 1, 1, 0, 0, 1, 0, 1, 0, 0, 0, 0, 0,\n",
       "       0, 0, 0, 0, 0, 1, 0, 1, 0, 1, 1, 1, 0, 0, 0, 0, 0, 1, 0, 1, 0, 0,\n",
       "       1, 1, 1, 1, 1, 1, 0, 1, 1, 0, 1, 1, 0, 0, 1, 1, 1, 1, 0, 1, 1, 0,\n",
       "       1, 1, 0, 1, 1, 0, 1, 0, 0, 0, 1, 1, 0, 0, 1, 0, 0, 0, 0, 1, 1, 1,\n",
       "       1, 0, 1, 0, 0, 1, 0, 1, 1, 0, 1, 0, 0, 1, 1, 0, 0, 0, 1, 1, 0, 0,\n",
       "       1, 1, 0, 1, 1, 1, 1, 1, 0, 0, 0, 0, 0, 1, 1, 0, 0, 0, 1, 0, 0, 0,\n",
       "       1, 1, 0, 1, 0, 1, 1, 0, 0], dtype=int64)"
      ]
     },
     "execution_count": 3318,
     "metadata": {},
     "output_type": "execute_result"
    }
   ],
   "source": [
    "y_init_pred"
   ]
  },
  {
   "cell_type": "code",
   "execution_count": 3319,
   "id": "b864dbc0",
   "metadata": {},
   "outputs": [
    {
     "data": {
      "text/plain": [
       "array([False,  True,  True, False,  True, False, False,  True,  True,\n",
       "       False, False,  True, False,  True,  True, False, False, False,\n",
       "       False,  True, False, False, False,  True, False, False, False,\n",
       "        True,  True,  True, False, False,  True,  True, False,  True,\n",
       "       False, False, False, False, False, False,  True,  True,  True,\n",
       "        True,  True,  True, False,  True, False,  True,  True,  True,\n",
       "       False, False, False,  True,  True, False, False, False,  True,\n",
       "       False,  True, False,  True, False, False,  True,  True, False,\n",
       "       False,  True, False, False,  True,  True,  True,  True, False,\n",
       "        True, False,  True,  True,  True,  True,  True,  True,  True,\n",
       "        True,  True,  True, False,  True, False,  True, False,  True,\n",
       "       False,  True,  True,  True,  True,  True, False,  True,  True,\n",
       "        True,  True, False, False, False, False,  True,  True,  True,\n",
       "       False, False,  True,  True, False,  True,  True, False, False,\n",
       "       False, False,  True,  True, False,  True, False, False,  True,\n",
       "       False, False,  True,  True,  True,  True,  True, False, False,\n",
       "        True,  True, False,  True,  True,  True,  True, False, False,\n",
       "        True, False,  True, False,  True,  True,  True,  True, False,\n",
       "       False,  True, False,  True,  True, False, False,  True,  True,\n",
       "        True, False, False,  True,  True, False, False,  True, False,\n",
       "        True,  True, False, False,  True,  True,  True,  True,  True,\n",
       "       False, False,  True,  True,  True, False,  True,  True,  True,\n",
       "       False, False,  True,  True,  True, False, False,  True,  True])"
      ]
     },
     "execution_count": 3319,
     "metadata": {},
     "output_type": "execute_result"
    }
   ],
   "source": [
    "compare = np.array(y_pred == y_init_pred)\n",
    "compare"
   ]
  },
  {
   "cell_type": "code",
   "execution_count": 3320,
   "id": "bf28d44f",
   "metadata": {},
   "outputs": [
    {
     "data": {
      "text/plain": [
       "Counter({False: 91, True: 116})"
      ]
     },
     "execution_count": 3320,
     "metadata": {},
     "output_type": "execute_result"
    }
   ],
   "source": [
    "from collections import Counter\n",
    "Counter(compare)"
   ]
  },
  {
   "cell_type": "code",
   "execution_count": 3321,
   "id": "9f1e897d",
   "metadata": {},
   "outputs": [],
   "source": [
    "counter = Counter(compare)\n",
    "dictcounter = dict(counter)"
   ]
  },
  {
   "cell_type": "code",
   "execution_count": 3322,
   "id": "6287a895",
   "metadata": {},
   "outputs": [
    {
     "data": {
      "text/plain": [
       "0.5603864734299517"
      ]
     },
     "execution_count": 3322,
     "metadata": {},
     "output_type": "execute_result"
    }
   ],
   "source": [
    "ConsistencyScores=dictcounter[True]/sum(counter.values())\n",
    "ConsistencyScores"
   ]
  },
  {
   "cell_type": "code",
   "execution_count": 3323,
   "id": "adf8b365",
   "metadata": {},
   "outputs": [
    {
     "data": {
      "text/plain": [
       "0.5603864734299517"
      ]
     },
     "execution_count": 3323,
     "metadata": {},
     "output_type": "execute_result"
    }
   ],
   "source": [
    "FAI = ConsistencyScores\n",
    "FAI"
   ]
  }
 ],
 "metadata": {
  "kernelspec": {
   "display_name": "Python 3 (ipykernel)",
   "language": "python",
   "name": "python3"
  },
  "language_info": {
   "codemirror_mode": {
    "name": "ipython",
    "version": 3
   },
   "file_extension": ".py",
   "mimetype": "text/x-python",
   "name": "python",
   "nbconvert_exporter": "python",
   "pygments_lexer": "ipython3",
   "version": "3.8.1"
  }
 },
 "nbformat": 4,
 "nbformat_minor": 5
}
