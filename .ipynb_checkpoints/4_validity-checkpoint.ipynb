{
 "cells": [
  {
   "cell_type": "code",
   "execution_count": 6995,
   "id": "3b059fc8",
   "metadata": {},
   "outputs": [],
   "source": [
    "import warnings\n",
    "warnings.filterwarnings(\"ignore\")\n",
    "\n",
    "import numpy as np\n",
    "import pandas as pd\n",
    "\n",
    "df = pd.read_csv('dataset/heart-disease/heart-disease.csv')\n",
    "\n",
    "X = df.drop('target',axis=1)\n",
    "\n",
    "y=df['target']\n",
    "\n",
    "feature_names = X.columns\n",
    "\n",
    "from sklearn.model_selection import train_test_split\n",
    "X_train, X_test, y_train, y_test = train_test_split(X, y, test_size=0.3, random_state=42)\n",
    "\n",
    "from sklearn.preprocessing import StandardScaler\n",
    "transform = StandardScaler()\n",
    "X_train[['age', 'trestbps', 'chol', 'thalach', 'oldpeak', 'ca']] = transform.fit_transform(X_train[['age', 'trestbps', 'chol', 'thalach', 'oldpeak', 'ca']])\n",
    "X_test[['age', 'trestbps', 'chol', 'thalach', 'oldpeak', 'ca']] = transform.transform(X_test[['age', 'trestbps', 'chol', 'thalach', 'oldpeak', 'ca']])\n",
    "\n",
    "import joblib\n",
    "model = joblib.load('saved_model/heart-disease/MLP.pkl')\n",
    "\n",
    "y_pred = model.predict(X_test)\n",
    "y_pred_proba = model.predict_proba(X_test)\n",
    "\n",
    "df = pd.read_csv('explain_set/heart-disease/MLP/lore/lore_explain_25.csv')\n",
    "X_explain = df.drop('target',axis=1)\n",
    "y_explain=df['target']\n",
    "\n",
    "X_explain[['age', 'trestbps', 'chol', 'thalach', 'oldpeak', 'ca']] = transform.transform(X_explain[['age', 'trestbps', 'chol', 'thalach', 'oldpeak', 'ca']])\n",
    "\n",
    "y_pred_explain = model.predict(X_explain)\n",
    "\n",
    "y_pred_proba_explain = model.predict_proba(X_explain)"
   ]
  },
  {
   "cell_type": "code",
   "execution_count": 6996,
   "id": "c29eafcf",
   "metadata": {},
   "outputs": [
    {
     "data": {
      "text/plain": [
       "array([0, 1, 0, 1, 0, 0, 1, 1, 1, 0, 0, 0, 0, 1, 1, 0, 1, 1, 1, 0, 1, 1,\n",
       "       1, 1, 1, 0, 1, 1, 0, 0, 0, 0, 1, 0, 0, 0, 1, 0, 1, 1, 0, 1, 1, 1,\n",
       "       0, 1, 1, 1, 0, 0, 0, 1, 0, 0, 1, 0, 0, 0, 1, 1, 0, 0, 0, 0, 0, 1,\n",
       "       1, 0, 1, 0, 1, 1, 1, 1, 1, 0, 1, 0, 0, 0, 0, 1, 1, 1, 1, 0, 0, 1,\n",
       "       0, 1], dtype=int64)"
      ]
     },
     "execution_count": 6996,
     "metadata": {},
     "output_type": "execute_result"
    }
   ],
   "source": [
    "y_pred"
   ]
  },
  {
   "cell_type": "code",
   "execution_count": 6997,
   "id": "10cce1e0",
   "metadata": {},
   "outputs": [
    {
     "data": {
      "text/plain": [
       "array([0, 0, 0, 1, 0, 0, 1, 1, 1, 0, 0, 0, 0, 0, 0, 0, 0, 1, 0, 0, 0, 0,\n",
       "       1, 0, 1, 0, 1, 0, 0, 0, 0, 0, 1, 0, 0, 0, 0, 0, 1, 0, 0, 1, 1, 0,\n",
       "       0, 1, 0, 1, 0, 0, 0, 1, 0, 1, 0, 1, 1, 0, 1, 1, 1, 0, 1, 0, 0, 0,\n",
       "       1, 0, 1, 0, 0, 1, 1, 0, 1, 0, 0, 0, 0, 0, 1, 1, 1, 0, 1, 0, 0, 1,\n",
       "       0, 1], dtype=int64)"
      ]
     },
     "execution_count": 6997,
     "metadata": {},
     "output_type": "execute_result"
    }
   ],
   "source": [
    "y_pred_explain"
   ]
  },
  {
   "cell_type": "code",
   "execution_count": 6998,
   "id": "9d76a39d",
   "metadata": {},
   "outputs": [
    {
     "data": {
      "text/plain": [
       "array([ True, False,  True,  True,  True,  True,  True,  True,  True,\n",
       "        True,  True,  True,  True, False, False,  True, False,  True,\n",
       "       False,  True, False, False,  True, False,  True,  True,  True,\n",
       "       False,  True,  True,  True,  True,  True,  True,  True,  True,\n",
       "       False,  True,  True, False,  True,  True,  True, False,  True,\n",
       "        True, False,  True,  True,  True,  True,  True,  True, False,\n",
       "       False, False, False,  True,  True,  True, False,  True, False,\n",
       "        True,  True, False,  True,  True,  True,  True, False,  True,\n",
       "        True, False,  True,  True, False,  True,  True,  True, False,\n",
       "        True,  True, False,  True,  True,  True,  True,  True,  True])"
      ]
     },
     "execution_count": 6998,
     "metadata": {},
     "output_type": "execute_result"
    }
   ],
   "source": [
    "compare = np.array(y_pred == y_pred_explain)\n",
    "compare"
   ]
  },
  {
   "cell_type": "code",
   "execution_count": 6999,
   "id": "9712b14e",
   "metadata": {},
   "outputs": [],
   "source": [
    "from collections import Counter"
   ]
  },
  {
   "cell_type": "code",
   "execution_count": 7000,
   "id": "81018dcf",
   "metadata": {},
   "outputs": [
    {
     "data": {
      "text/plain": [
       "(array([ 0,  2,  4,  5,  9, 10, 11, 12, 15, 19, 25, 28, 29, 30, 31, 33, 34,\n",
       "        35, 37, 40, 44, 48, 49, 50, 52, 53, 55, 56, 57, 60, 61, 62, 63, 64,\n",
       "        67, 69, 75, 77, 78, 79, 80, 85, 86, 88], dtype=int64),)"
      ]
     },
     "execution_count": 7000,
     "metadata": {},
     "output_type": "execute_result"
    }
   ],
   "source": [
    "#Only consider category 0 or 1\n",
    "M_index = np.where(y_pred==0)\n",
    "M_index"
   ]
  },
  {
   "cell_type": "code",
   "execution_count": 7001,
   "id": "001435c4",
   "metadata": {},
   "outputs": [
    {
     "data": {
      "text/plain": [
       "array([ True,  True,  True,  True,  True,  True,  True,  True,  True,\n",
       "        True,  True,  True,  True,  True,  True,  True,  True,  True,\n",
       "        True,  True,  True,  True,  True,  True,  True, False, False,\n",
       "       False,  True, False,  True, False,  True,  True,  True,  True,\n",
       "        True,  True,  True,  True, False,  True,  True,  True])"
      ]
     },
     "execution_count": 7001,
     "metadata": {},
     "output_type": "execute_result"
    }
   ],
   "source": [
    "compare_M = np.array(y_pred[M_index] == y_pred_explain[M_index])\n",
    "compare_M"
   ]
  },
  {
   "cell_type": "code",
   "execution_count": 7002,
   "id": "88b51c12",
   "metadata": {},
   "outputs": [],
   "source": [
    "counter = Counter(compare_M)"
   ]
  },
  {
   "cell_type": "code",
   "execution_count": 7003,
   "id": "02cf8961",
   "metadata": {},
   "outputs": [
    {
     "data": {
      "text/plain": [
       "Counter({True: 38, False: 6})"
      ]
     },
     "execution_count": 7003,
     "metadata": {},
     "output_type": "execute_result"
    }
   ],
   "source": [
    "counter"
   ]
  },
  {
   "cell_type": "code",
   "execution_count": 7004,
   "id": "c3079060",
   "metadata": {},
   "outputs": [
    {
     "data": {
      "text/plain": [
       "44"
      ]
     },
     "execution_count": 7004,
     "metadata": {},
     "output_type": "execute_result"
    }
   ],
   "source": [
    "sum(counter.values())"
   ]
  },
  {
   "cell_type": "code",
   "execution_count": 7005,
   "id": "75e6bb07",
   "metadata": {},
   "outputs": [],
   "source": [
    "dictcounter = dict(counter)"
   ]
  },
  {
   "cell_type": "code",
   "execution_count": 7006,
   "id": "dde179d9",
   "metadata": {},
   "outputs": [
    {
     "data": {
      "text/plain": [
       "0.13636363636363635"
      ]
     },
     "execution_count": 7006,
     "metadata": {},
     "output_type": "execute_result"
    }
   ],
   "source": [
    "VAL=dictcounter[False]/sum(counter.values())\n",
    "VAL"
   ]
  },
  {
   "cell_type": "code",
   "execution_count": 7007,
   "id": "894cb84d",
   "metadata": {},
   "outputs": [
    {
     "data": {
      "text/plain": [
       "0.8636363636363636"
      ]
     },
     "execution_count": 7007,
     "metadata": {},
     "output_type": "execute_result"
    }
   ],
   "source": [
    "ConsistencyScores = 1-VAL\n",
    "ConsistencyScores"
   ]
  },
  {
   "cell_type": "code",
   "execution_count": 7008,
   "id": "196aff47",
   "metadata": {},
   "outputs": [
    {
     "data": {
      "text/plain": [
       "(array([25, 26, 27, 29, 31, 40], dtype=int64),)"
      ]
     },
     "execution_count": 7008,
     "metadata": {},
     "output_type": "execute_result"
    }
   ],
   "source": [
    "data_enhan_index = np.where(compare_M==False)\n",
    "data_enhan_index"
   ]
  },
  {
   "cell_type": "code",
   "execution_count": 7009,
   "id": "de178d9e",
   "metadata": {},
   "outputs": [
    {
     "data": {
      "text/plain": [
       "array([ 0,  2,  4,  5,  9, 10, 11, 12, 15, 19, 25, 28, 29, 30, 31, 33, 34,\n",
       "       35, 37, 40, 44, 48, 49, 50, 52, 53, 55, 56, 57, 60, 61, 62, 63, 64,\n",
       "       67, 69, 75, 77, 78, 79, 80, 85, 86, 88], dtype=int64)"
      ]
     },
     "execution_count": 7009,
     "metadata": {},
     "output_type": "execute_result"
    }
   ],
   "source": [
    "M_index = np.array(M_index)\n",
    "M_index = M_index.flatten()\n",
    "M_index"
   ]
  },
  {
   "cell_type": "code",
   "execution_count": 7010,
   "id": "323235bf",
   "metadata": {},
   "outputs": [
    {
     "data": {
      "text/plain": [
       "array([53, 55, 56, 60, 62, 80], dtype=int64)"
      ]
     },
     "execution_count": 7010,
     "metadata": {},
     "output_type": "execute_result"
    }
   ],
   "source": [
    "M_index[data_enhan_index]"
   ]
  },
  {
   "cell_type": "code",
   "execution_count": 7011,
   "id": "f771a2dd",
   "metadata": {},
   "outputs": [
    {
     "data": {
      "text/html": [
       "<div>\n",
       "<style scoped>\n",
       "    .dataframe tbody tr th:only-of-type {\n",
       "        vertical-align: middle;\n",
       "    }\n",
       "\n",
       "    .dataframe tbody tr th {\n",
       "        vertical-align: top;\n",
       "    }\n",
       "\n",
       "    .dataframe thead th {\n",
       "        text-align: right;\n",
       "    }\n",
       "</style>\n",
       "<table border=\"1\" class=\"dataframe\">\n",
       "  <thead>\n",
       "    <tr style=\"text-align: right;\">\n",
       "      <th></th>\n",
       "      <th>age</th>\n",
       "      <th>trestbps</th>\n",
       "      <th>chol</th>\n",
       "      <th>thalach</th>\n",
       "      <th>oldpeak</th>\n",
       "      <th>ca</th>\n",
       "      <th>sex_female</th>\n",
       "      <th>sex_male</th>\n",
       "      <th>cp_asymptomatic</th>\n",
       "      <th>cp_atypical angina</th>\n",
       "      <th>...</th>\n",
       "      <th>restecg_nomal</th>\n",
       "      <th>exang_no</th>\n",
       "      <th>exang_yes</th>\n",
       "      <th>slope_downsloping</th>\n",
       "      <th>slope_flat</th>\n",
       "      <th>slope_upsloping</th>\n",
       "      <th>thal_fixed defect</th>\n",
       "      <th>thal_normal</th>\n",
       "      <th>thal_reversable defect</th>\n",
       "      <th>target</th>\n",
       "    </tr>\n",
       "  </thead>\n",
       "  <tbody>\n",
       "    <tr>\n",
       "      <th>53</th>\n",
       "      <td>58</td>\n",
       "      <td>130</td>\n",
       "      <td>197</td>\n",
       "      <td>131</td>\n",
       "      <td>14.0</td>\n",
       "      <td>12</td>\n",
       "      <td>1</td>\n",
       "      <td>0</td>\n",
       "      <td>1</td>\n",
       "      <td>0</td>\n",
       "      <td>...</td>\n",
       "      <td>1</td>\n",
       "      <td>1</td>\n",
       "      <td>0</td>\n",
       "      <td>0</td>\n",
       "      <td>1</td>\n",
       "      <td>0</td>\n",
       "      <td>0</td>\n",
       "      <td>1</td>\n",
       "      <td>0</td>\n",
       "      <td>0</td>\n",
       "    </tr>\n",
       "    <tr>\n",
       "      <th>55</th>\n",
       "      <td>57</td>\n",
       "      <td>180</td>\n",
       "      <td>241</td>\n",
       "      <td>123</td>\n",
       "      <td>14.0</td>\n",
       "      <td>12</td>\n",
       "      <td>1</td>\n",
       "      <td>0</td>\n",
       "      <td>1</td>\n",
       "      <td>0</td>\n",
       "      <td>...</td>\n",
       "      <td>1</td>\n",
       "      <td>0</td>\n",
       "      <td>1</td>\n",
       "      <td>0</td>\n",
       "      <td>1</td>\n",
       "      <td>0</td>\n",
       "      <td>0</td>\n",
       "      <td>0</td>\n",
       "      <td>1</td>\n",
       "      <td>1</td>\n",
       "    </tr>\n",
       "    <tr>\n",
       "      <th>56</th>\n",
       "      <td>50</td>\n",
       "      <td>180</td>\n",
       "      <td>219</td>\n",
       "      <td>225</td>\n",
       "      <td>14.0</td>\n",
       "      <td>12</td>\n",
       "      <td>1</td>\n",
       "      <td>0</td>\n",
       "      <td>0</td>\n",
       "      <td>0</td>\n",
       "      <td>...</td>\n",
       "      <td>1</td>\n",
       "      <td>1</td>\n",
       "      <td>0</td>\n",
       "      <td>0</td>\n",
       "      <td>1</td>\n",
       "      <td>0</td>\n",
       "      <td>0</td>\n",
       "      <td>1</td>\n",
       "      <td>0</td>\n",
       "      <td>0</td>\n",
       "    </tr>\n",
       "    <tr>\n",
       "      <th>60</th>\n",
       "      <td>39</td>\n",
       "      <td>138</td>\n",
       "      <td>220</td>\n",
       "      <td>225</td>\n",
       "      <td>14.0</td>\n",
       "      <td>12</td>\n",
       "      <td>1</td>\n",
       "      <td>0</td>\n",
       "      <td>0</td>\n",
       "      <td>0</td>\n",
       "      <td>...</td>\n",
       "      <td>1</td>\n",
       "      <td>1</td>\n",
       "      <td>0</td>\n",
       "      <td>0</td>\n",
       "      <td>1</td>\n",
       "      <td>0</td>\n",
       "      <td>0</td>\n",
       "      <td>1</td>\n",
       "      <td>0</td>\n",
       "      <td>0</td>\n",
       "    </tr>\n",
       "    <tr>\n",
       "      <th>62</th>\n",
       "      <td>69</td>\n",
       "      <td>180</td>\n",
       "      <td>239</td>\n",
       "      <td>225</td>\n",
       "      <td>1.8</td>\n",
       "      <td>2</td>\n",
       "      <td>1</td>\n",
       "      <td>0</td>\n",
       "      <td>0</td>\n",
       "      <td>0</td>\n",
       "      <td>...</td>\n",
       "      <td>1</td>\n",
       "      <td>1</td>\n",
       "      <td>0</td>\n",
       "      <td>0</td>\n",
       "      <td>0</td>\n",
       "      <td>1</td>\n",
       "      <td>0</td>\n",
       "      <td>1</td>\n",
       "      <td>0</td>\n",
       "      <td>0</td>\n",
       "    </tr>\n",
       "    <tr>\n",
       "      <th>80</th>\n",
       "      <td>63</td>\n",
       "      <td>180</td>\n",
       "      <td>197</td>\n",
       "      <td>136</td>\n",
       "      <td>0.0</td>\n",
       "      <td>12</td>\n",
       "      <td>1</td>\n",
       "      <td>0</td>\n",
       "      <td>1</td>\n",
       "      <td>0</td>\n",
       "      <td>...</td>\n",
       "      <td>1</td>\n",
       "      <td>0</td>\n",
       "      <td>1</td>\n",
       "      <td>0</td>\n",
       "      <td>1</td>\n",
       "      <td>0</td>\n",
       "      <td>0</td>\n",
       "      <td>1</td>\n",
       "      <td>0</td>\n",
       "      <td>1</td>\n",
       "    </tr>\n",
       "  </tbody>\n",
       "</table>\n",
       "<p>6 rows × 26 columns</p>\n",
       "</div>"
      ],
      "text/plain": [
       "    age  trestbps  chol  thalach  oldpeak  ca  sex_female  sex_male  \\\n",
       "53   58       130   197      131     14.0  12           1         0   \n",
       "55   57       180   241      123     14.0  12           1         0   \n",
       "56   50       180   219      225     14.0  12           1         0   \n",
       "60   39       138   220      225     14.0  12           1         0   \n",
       "62   69       180   239      225      1.8   2           1         0   \n",
       "80   63       180   197      136      0.0  12           1         0   \n",
       "\n",
       "    cp_asymptomatic  cp_atypical angina  ...  restecg_nomal  exang_no  \\\n",
       "53                1                   0  ...              1         1   \n",
       "55                1                   0  ...              1         0   \n",
       "56                0                   0  ...              1         1   \n",
       "60                0                   0  ...              1         1   \n",
       "62                0                   0  ...              1         1   \n",
       "80                1                   0  ...              1         0   \n",
       "\n",
       "    exang_yes  slope_downsloping  slope_flat  slope_upsloping  \\\n",
       "53          0                  0           1                0   \n",
       "55          1                  0           1                0   \n",
       "56          0                  0           1                0   \n",
       "60          0                  0           1                0   \n",
       "62          0                  0           0                1   \n",
       "80          1                  0           1                0   \n",
       "\n",
       "    thal_fixed defect  thal_normal  thal_reversable defect  target  \n",
       "53                  0            1                       0       0  \n",
       "55                  0            0                       1       1  \n",
       "56                  0            1                       0       0  \n",
       "60                  0            1                       0       0  \n",
       "62                  0            1                       0       0  \n",
       "80                  0            1                       0       1  \n",
       "\n",
       "[6 rows x 26 columns]"
      ]
     },
     "execution_count": 7011,
     "metadata": {},
     "output_type": "execute_result"
    }
   ],
   "source": [
    "data_enhan = df.loc[M_index[data_enhan_index]]\n",
    "data_enhan"
   ]
  },
  {
   "cell_type": "code",
   "execution_count": 7012,
   "id": "2cc691d6",
   "metadata": {},
   "outputs": [
    {
     "data": {
      "text/html": [
       "<div>\n",
       "<style scoped>\n",
       "    .dataframe tbody tr th:only-of-type {\n",
       "        vertical-align: middle;\n",
       "    }\n",
       "\n",
       "    .dataframe tbody tr th {\n",
       "        vertical-align: top;\n",
       "    }\n",
       "\n",
       "    .dataframe thead th {\n",
       "        text-align: right;\n",
       "    }\n",
       "</style>\n",
       "<table border=\"1\" class=\"dataframe\">\n",
       "  <thead>\n",
       "    <tr style=\"text-align: right;\">\n",
       "      <th></th>\n",
       "      <th>age</th>\n",
       "      <th>trestbps</th>\n",
       "      <th>chol</th>\n",
       "      <th>thalach</th>\n",
       "      <th>oldpeak</th>\n",
       "      <th>ca</th>\n",
       "      <th>sex_female</th>\n",
       "      <th>sex_male</th>\n",
       "      <th>cp_asymptomatic</th>\n",
       "      <th>cp_atypical angina</th>\n",
       "      <th>...</th>\n",
       "      <th>restecg_nomal</th>\n",
       "      <th>exang_no</th>\n",
       "      <th>exang_yes</th>\n",
       "      <th>slope_downsloping</th>\n",
       "      <th>slope_flat</th>\n",
       "      <th>slope_upsloping</th>\n",
       "      <th>thal_fixed defect</th>\n",
       "      <th>thal_normal</th>\n",
       "      <th>thal_reversable defect</th>\n",
       "      <th>target</th>\n",
       "    </tr>\n",
       "  </thead>\n",
       "  <tbody>\n",
       "    <tr>\n",
       "      <th>53</th>\n",
       "      <td>58</td>\n",
       "      <td>130</td>\n",
       "      <td>197</td>\n",
       "      <td>131</td>\n",
       "      <td>14.0</td>\n",
       "      <td>12</td>\n",
       "      <td>1</td>\n",
       "      <td>0</td>\n",
       "      <td>1</td>\n",
       "      <td>0</td>\n",
       "      <td>...</td>\n",
       "      <td>1</td>\n",
       "      <td>1</td>\n",
       "      <td>0</td>\n",
       "      <td>0</td>\n",
       "      <td>1</td>\n",
       "      <td>0</td>\n",
       "      <td>0</td>\n",
       "      <td>1</td>\n",
       "      <td>0</td>\n",
       "      <td>1</td>\n",
       "    </tr>\n",
       "    <tr>\n",
       "      <th>55</th>\n",
       "      <td>57</td>\n",
       "      <td>180</td>\n",
       "      <td>241</td>\n",
       "      <td>123</td>\n",
       "      <td>14.0</td>\n",
       "      <td>12</td>\n",
       "      <td>1</td>\n",
       "      <td>0</td>\n",
       "      <td>1</td>\n",
       "      <td>0</td>\n",
       "      <td>...</td>\n",
       "      <td>1</td>\n",
       "      <td>0</td>\n",
       "      <td>1</td>\n",
       "      <td>0</td>\n",
       "      <td>1</td>\n",
       "      <td>0</td>\n",
       "      <td>0</td>\n",
       "      <td>0</td>\n",
       "      <td>1</td>\n",
       "      <td>1</td>\n",
       "    </tr>\n",
       "    <tr>\n",
       "      <th>56</th>\n",
       "      <td>50</td>\n",
       "      <td>180</td>\n",
       "      <td>219</td>\n",
       "      <td>225</td>\n",
       "      <td>14.0</td>\n",
       "      <td>12</td>\n",
       "      <td>1</td>\n",
       "      <td>0</td>\n",
       "      <td>0</td>\n",
       "      <td>0</td>\n",
       "      <td>...</td>\n",
       "      <td>1</td>\n",
       "      <td>1</td>\n",
       "      <td>0</td>\n",
       "      <td>0</td>\n",
       "      <td>1</td>\n",
       "      <td>0</td>\n",
       "      <td>0</td>\n",
       "      <td>1</td>\n",
       "      <td>0</td>\n",
       "      <td>1</td>\n",
       "    </tr>\n",
       "    <tr>\n",
       "      <th>60</th>\n",
       "      <td>39</td>\n",
       "      <td>138</td>\n",
       "      <td>220</td>\n",
       "      <td>225</td>\n",
       "      <td>14.0</td>\n",
       "      <td>12</td>\n",
       "      <td>1</td>\n",
       "      <td>0</td>\n",
       "      <td>0</td>\n",
       "      <td>0</td>\n",
       "      <td>...</td>\n",
       "      <td>1</td>\n",
       "      <td>1</td>\n",
       "      <td>0</td>\n",
       "      <td>0</td>\n",
       "      <td>1</td>\n",
       "      <td>0</td>\n",
       "      <td>0</td>\n",
       "      <td>1</td>\n",
       "      <td>0</td>\n",
       "      <td>1</td>\n",
       "    </tr>\n",
       "    <tr>\n",
       "      <th>62</th>\n",
       "      <td>69</td>\n",
       "      <td>180</td>\n",
       "      <td>239</td>\n",
       "      <td>225</td>\n",
       "      <td>1.8</td>\n",
       "      <td>2</td>\n",
       "      <td>1</td>\n",
       "      <td>0</td>\n",
       "      <td>0</td>\n",
       "      <td>0</td>\n",
       "      <td>...</td>\n",
       "      <td>1</td>\n",
       "      <td>1</td>\n",
       "      <td>0</td>\n",
       "      <td>0</td>\n",
       "      <td>0</td>\n",
       "      <td>1</td>\n",
       "      <td>0</td>\n",
       "      <td>1</td>\n",
       "      <td>0</td>\n",
       "      <td>1</td>\n",
       "    </tr>\n",
       "    <tr>\n",
       "      <th>80</th>\n",
       "      <td>63</td>\n",
       "      <td>180</td>\n",
       "      <td>197</td>\n",
       "      <td>136</td>\n",
       "      <td>0.0</td>\n",
       "      <td>12</td>\n",
       "      <td>1</td>\n",
       "      <td>0</td>\n",
       "      <td>1</td>\n",
       "      <td>0</td>\n",
       "      <td>...</td>\n",
       "      <td>1</td>\n",
       "      <td>0</td>\n",
       "      <td>1</td>\n",
       "      <td>0</td>\n",
       "      <td>1</td>\n",
       "      <td>0</td>\n",
       "      <td>0</td>\n",
       "      <td>1</td>\n",
       "      <td>0</td>\n",
       "      <td>1</td>\n",
       "    </tr>\n",
       "  </tbody>\n",
       "</table>\n",
       "<p>6 rows × 26 columns</p>\n",
       "</div>"
      ],
      "text/plain": [
       "    age  trestbps  chol  thalach  oldpeak  ca  sex_female  sex_male  \\\n",
       "53   58       130   197      131     14.0  12           1         0   \n",
       "55   57       180   241      123     14.0  12           1         0   \n",
       "56   50       180   219      225     14.0  12           1         0   \n",
       "60   39       138   220      225     14.0  12           1         0   \n",
       "62   69       180   239      225      1.8   2           1         0   \n",
       "80   63       180   197      136      0.0  12           1         0   \n",
       "\n",
       "    cp_asymptomatic  cp_atypical angina  ...  restecg_nomal  exang_no  \\\n",
       "53                1                   0  ...              1         1   \n",
       "55                1                   0  ...              1         0   \n",
       "56                0                   0  ...              1         1   \n",
       "60                0                   0  ...              1         1   \n",
       "62                0                   0  ...              1         1   \n",
       "80                1                   0  ...              1         0   \n",
       "\n",
       "    exang_yes  slope_downsloping  slope_flat  slope_upsloping  \\\n",
       "53          0                  0           1                0   \n",
       "55          1                  0           1                0   \n",
       "56          0                  0           1                0   \n",
       "60          0                  0           1                0   \n",
       "62          0                  0           0                1   \n",
       "80          1                  0           1                0   \n",
       "\n",
       "    thal_fixed defect  thal_normal  thal_reversable defect  target  \n",
       "53                  0            1                       0       1  \n",
       "55                  0            0                       1       1  \n",
       "56                  0            1                       0       1  \n",
       "60                  0            1                       0       1  \n",
       "62                  0            1                       0       1  \n",
       "80                  0            1                       0       1  \n",
       "\n",
       "[6 rows x 26 columns]"
      ]
     },
     "execution_count": 7012,
     "metadata": {},
     "output_type": "execute_result"
    }
   ],
   "source": [
    "data_enhan['target'] = y_pred_explain[M_index[data_enhan_index]]\n",
    "data_enhan"
   ]
  },
  {
   "cell_type": "code",
   "execution_count": 7013,
   "id": "60710e49",
   "metadata": {},
   "outputs": [],
   "source": [
    "#data_enhan.to_csv('data_enhan/heart-disease/anchor/anchor_enhan.csv',index=False)"
   ]
  },
  {
   "cell_type": "code",
   "execution_count": null,
   "id": "66a81325",
   "metadata": {},
   "outputs": [],
   "source": []
  }
 ],
 "metadata": {
  "kernelspec": {
   "display_name": "Python 3 (ipykernel)",
   "language": "python",
   "name": "python3"
  },
  "language_info": {
   "codemirror_mode": {
    "name": "ipython",
    "version": 3
   },
   "file_extension": ".py",
   "mimetype": "text/x-python",
   "name": "python",
   "nbconvert_exporter": "python",
   "pygments_lexer": "ipython3",
   "version": "3.8.1"
  }
 },
 "nbformat": 4,
 "nbformat_minor": 5
}
