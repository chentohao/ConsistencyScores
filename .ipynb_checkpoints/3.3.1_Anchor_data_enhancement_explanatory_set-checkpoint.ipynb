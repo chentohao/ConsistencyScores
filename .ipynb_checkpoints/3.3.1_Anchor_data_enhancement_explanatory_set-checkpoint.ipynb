{
 "cells": [
  {
   "cell_type": "code",
   "execution_count": 1,
   "id": "4426f732",
   "metadata": {},
   "outputs": [
    {
     "name": "stdout",
     "output_type": "stream",
     "text": [
      "Confusion Matrix:\n",
      " [[ 54   0]\n",
      " [  1 101]]\n",
      "              precision    recall  f1-score   support\n",
      "\n",
      "    Negative       0.98      1.00      0.99        54\n",
      "    Positive       1.00      0.99      1.00       102\n",
      "\n",
      "    accuracy                           0.99       156\n",
      "   macro avg       0.99      1.00      0.99       156\n",
      "weighted avg       0.99      0.99      0.99       156\n",
      "\n"
     ]
    }
   ],
   "source": [
    "import warnings\n",
    "warnings.filterwarnings(\"ignore\")\n",
    "\n",
    "import numpy as np\n",
    "import pandas as pd\n",
    "\n",
    "df = pd.read_csv('dataset/early-stage-diabetes-risk-prediction/diabetes.csv')\n",
    "\n",
    "X = df.drop('class',axis=1)\n",
    "\n",
    "y=df['class']\n",
    "\n",
    "feature_names = X.columns\n",
    "\n",
    "df_train = pd.read_csv('dataset/early-stage-diabetes-risk-prediction/train_data.csv')\n",
    "X_train = df_train.drop('class',axis=1)\n",
    "y_train = df_train['class']\n",
    "\n",
    "df_test = pd.read_csv('dataset/early-stage-diabetes-risk-prediction/test_data.csv')\n",
    "X_test = df_test.drop('class',axis=1)\n",
    "y_test = df_test['class']\n",
    "\n",
    "#数据增强\n",
    "df_enhan = pd.read_csv('data_enhan/early-stage-diabetes-risk-prediction/anchor/reverse/anchor_enhan.csv')\n",
    "X_enhan = df_enhan.drop('class',axis=1)\n",
    "y_enhan=df_enhan['class']\n",
    "y_enhan.to_numpy()\n",
    "X_train = pd.concat([X_train,X_enhan],ignore_index=True)\n",
    "y_train = np.concatenate((y_train, y_enhan))\n",
    "\n",
    "from sklearn.preprocessing import StandardScaler\n",
    "transform = StandardScaler()\n",
    "X_train['Age'] = transform.fit_transform(X_train[['Age']])\n",
    "X_test['Age'] = transform.transform(X_test[['Age']])\n",
    "\n",
    "import joblib\n",
    "from sklearn.ensemble import RandomForestClassifier\n",
    "model = RandomForestClassifier(n_estimators=100, random_state=42) \n",
    "model.fit(X_train, y_train)\n",
    "joblib.dump(model,'saved_model/early-stage-diabetes-risk-prediction/enhance_model/anchor/reverse/anchor_enhan_model.pkl')\n",
    "\n",
    "y_pred = model.predict(X_test)\n",
    "y_pred_proba = model.predict_proba(X_test)\n",
    "\n",
    "from sklearn.metrics import confusion_matrix\n",
    "confusion_matrix_model = confusion_matrix(y_test,y_pred)\n",
    "print(\"Confusion Matrix:\\n\", confusion_matrix_model)\n",
    "\n",
    "from sklearn.metrics import classification_report\n",
    "print(classification_report(y_test,y_pred,target_names=['Negative', 'Positive']))"
   ]
  },
  {
   "cell_type": "code",
   "execution_count": 20,
   "id": "e75d9f14",
   "metadata": {
    "scrolled": false
   },
   "outputs": [],
   "source": [
    "import lime\n",
    "from lime import lime_tabular\n",
    "explainer = lime_tabular.LimeTabularExplainer(\n",
    "    training_data=np.array(X_train),\n",
    "    feature_names=feature_names,\n",
    "    class_names=['Negative', 'Positive'],\n",
    "    mode='classification'\n",
    ")\n",
    "\n",
    "test_data = pd.read_csv('dataset/early-stage-diabetes-risk-prediction/test_data.csv')\n",
    "for idx in range(156):\n",
    "    exp = explainer.explain_instance(\n",
    "        data_row=X_test.iloc[idx], \n",
    "        predict_fn=model.predict_proba,\n",
    "        num_features = 31\n",
    "    )\n",
    "    mapa = exp.as_map().values()\n",
    "    lista = list(mapa)[0]\n",
    "    for j in range(0,10):\n",
    "        s = lista[j]\n",
    "        if s[0]==0:\n",
    "            test_data.iat[idx,s[0]]=94\n",
    "        else:\n",
    "            test_data.iat[idx,s[0]]=0"
   ]
  },
  {
   "cell_type": "code",
   "execution_count": 21,
   "id": "b1804bae",
   "metadata": {},
   "outputs": [],
   "source": [
    "test_data.to_csv('explain_set/early-stage-diabetes-risk-prediction/data_enhan/lime/reverse/lime_explain_10.csv',index=False)"
   ]
  },
  {
   "cell_type": "code",
   "execution_count": null,
   "id": "3f2284fa",
   "metadata": {},
   "outputs": [],
   "source": []
  }
 ],
 "metadata": {
  "kernelspec": {
   "display_name": "Python 3 (ipykernel)",
   "language": "python",
   "name": "python3"
  },
  "language_info": {
   "codemirror_mode": {
    "name": "ipython",
    "version": 3
   },
   "file_extension": ".py",
   "mimetype": "text/x-python",
   "name": "python",
   "nbconvert_exporter": "python",
   "pygments_lexer": "ipython3",
   "version": "3.8.1"
  }
 },
 "nbformat": 4,
 "nbformat_minor": 5
}
