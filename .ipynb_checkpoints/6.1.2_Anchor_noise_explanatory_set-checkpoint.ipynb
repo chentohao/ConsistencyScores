{
 "cells": [
  {
   "cell_type": "code",
   "execution_count": 11,
   "id": "f73c9258",
   "metadata": {},
   "outputs": [],
   "source": [
    "import warnings\n",
    "warnings.filterwarnings(\"ignore\")\n",
    "\n",
    "import numpy as np\n",
    "import pandas as pd\n",
    "\n",
    "df = pd.read_csv('dataset/early-stage-diabetes-risk-prediction/diabetes.csv')\n",
    "\n",
    "X = df.drop('class',axis=1)\n",
    "\n",
    "y=df['class']\n",
    "\n",
    "feature_names = X.columns\n",
    "\n",
    "from sklearn.model_selection import train_test_split\n",
    "X_train, X_test, y_train, y_test = train_test_split(X, y, test_size=0.3, random_state=42)\n",
    "\n",
    "from sklearn.preprocessing import StandardScaler\n",
    "transform = StandardScaler()\n",
    "X_train['Age'] = transform.fit_transform(X_train[['Age']])\n",
    "X_test['Age'] = transform.transform(X_test[['Age']])\n",
    "\n",
    "#使用 np.random.randn(*x_train.shape)生成噪声，它将返回具有相同形状的正态分布均值为0，标准差为1的随机值数组。然后将生成的噪声与噪声的标准差(0.2)相乘，并将其添加到输入数据中。\n",
    "noise_std = 0.2\n",
    "np.random.seed(0)\n",
    "X_test_noisy = X_test + noise_std * np.random.randn(*X_test.shape)"
   ]
  },
  {
   "cell_type": "code",
   "execution_count": 12,
   "id": "9827b723",
   "metadata": {},
   "outputs": [
    {
     "name": "stdout",
     "output_type": "stream",
     "text": [
      "Confusion Matrix:\n",
      " [[104   4]\n",
      " [  3  60]]\n",
      "              precision    recall  f1-score   support\n",
      "\n",
      "      Benign       0.97      0.96      0.97       108\n",
      "   Malignant       0.94      0.95      0.94        63\n",
      "\n",
      "    accuracy                           0.96       171\n",
      "   macro avg       0.95      0.96      0.96       171\n",
      "weighted avg       0.96      0.96      0.96       171\n",
      "\n"
     ]
    }
   ],
   "source": [
    "import joblib\n",
    "model = joblib.load('saved_model/early-stage-diabetes-risk-prediction/RF.pkl')\n",
    "\n",
    "y_pred = model.predict(X_test_noisy)\n",
    "y_pred_proba = model.predict_proba(X_test_noisy)\n",
    "\n",
    "from sklearn.metrics import confusion_matrix\n",
    "confusion_matrix_model = confusion_matrix(y_test,y_pred)\n",
    "print(\"Confusion Matrix:\\n\", confusion_matrix_model)\n",
    "from sklearn.metrics import classification_report\n",
    "print(classification_report(y_test,y_pred,target_names=['Negative', 'Positive']))"
   ]
  },
  {
   "cell_type": "code",
   "execution_count": 13,
   "id": "c877b1b3",
   "metadata": {},
   "outputs": [],
   "source": [
    "from anchor import anchor_tabular\n",
    "class_names=['Negative', 'Positive']\n",
    "categorical_names = {\n",
    "    1: ['Female', 'Male'], 2: ['Female', 'Male'], 3: ['No', 'Yes'], 4: ['No', 'Yes'], 5: ['No', 'Yes'], 6: ['No', 'Yes'], 7: ['No', 'Yes'], 8: ['No', 'Yes'], 9: ['No', 'Yes'], 10: ['No', 'Yes'],\n",
    "    11: ['No', 'Yes'], 12: ['No', 'Yes'], 13: ['No', 'Yes'], 14: ['No', 'Yes'], 15: ['No', 'Yes'], 16: ['No', 'Yes'], 17: ['No', 'Yes'], 18: ['No', 'Yes'], 19: ['No', 'Yes'],\n",
    "    20: ['No', 'Yes'], 21: ['No', 'Yes'], 22: ['No', 'Yes'], 23: ['No', 'Yes'], 24: ['No', 'Yes'], 25: ['No', 'Yes'], 26: ['No', 'Yes'], 27: ['No', 'Yes'], 28: ['No', 'Yes'], 29: ['No', 'Yes'], 30: ['No', 'Yes']\n",
    "}\n",
    "explainer = anchor_tabular.AnchorTabularExplainer(\n",
    "    class_names,\n",
    "    feature_names,\n",
    "    np.array(X_train),\n",
    "    categorical_names)"
   ]
  },
  {
   "cell_type": "code",
   "execution_count": 14,
   "id": "58e9f3b4",
   "metadata": {},
   "outputs": [],
   "source": [
    "explanations = [] \n",
    "\n",
    "# First loop over idx, generate explanation, and store the results in explanations\n",
    "for idx in range(171):\n",
    "    exp = explainer.explain_instance(X_test_noisy[idx], model.predict,threshold=0.95)\n",
    "    explanations.append(exp)"
   ]
  },
  {
   "cell_type": "code",
   "execution_count": 15,
   "id": "e479cb84",
   "metadata": {},
   "outputs": [],
   "source": [
    "for k in range(1, 31):\n",
    "    test_data = pd.read_csv('dataset/breast-cancer-wisconsin/test_data.csv')\n",
    "    bound = pd.read_csv('dataset/breast-cancer-wisconsin/bound.csv')\n",
    "    for idx in range(171):\n",
    "        exp = explanations[idx] # Use the previously stored explanation\n",
    "        lista = exp.features()\n",
    "        length = len(lista)\n",
    "        if length > k:\n",
    "            for j in range(0,k):\n",
    "                test_data.iat[idx,lista[j]+1]=bound.iat[1,lista[j]]+10\n",
    "        elif length <= k:\n",
    "            for j in range(0,length):\n",
    "                test_data.iat[idx,lista[j]+1]=bound.iat[1,lista[j]]+10\n",
    "    filename = 'explain_set/breast-cancer-wisconsin/MLP/anchor/noise/anchor_explain_'+str(k)+'.csv'\n",
    "    test_data.to_csv(filename,index=False)"
   ]
  },
  {
   "cell_type": "code",
   "execution_count": null,
   "id": "b6742fe5",
   "metadata": {},
   "outputs": [],
   "source": []
  }
 ],
 "metadata": {
  "kernelspec": {
   "display_name": "Python 3 (ipykernel)",
   "language": "python",
   "name": "python3"
  },
  "language_info": {
   "codemirror_mode": {
    "name": "ipython",
    "version": 3
   },
   "file_extension": ".py",
   "mimetype": "text/x-python",
   "name": "python",
   "nbconvert_exporter": "python",
   "pygments_lexer": "ipython3",
   "version": "3.8.1"
  }
 },
 "nbformat": 4,
 "nbformat_minor": 5
}
