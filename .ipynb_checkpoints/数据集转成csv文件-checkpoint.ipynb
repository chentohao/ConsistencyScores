{
 "cells": [
  {
   "cell_type": "code",
   "execution_count": 2,
   "id": "1799f466",
   "metadata": {},
   "outputs": [
    {
     "name": "stdout",
     "output_type": "stream",
     "text": [
      "Confusion Matrix:\n",
      " [[105   3]\n",
      " [  2  61]]\n",
      "              precision    recall  f1-score   support\n",
      "\n",
      "          良性       0.98      0.97      0.98       108\n",
      "          恶性       0.95      0.97      0.96        63\n",
      "\n",
      "    accuracy                           0.97       171\n",
      "   macro avg       0.97      0.97      0.97       171\n",
      "weighted avg       0.97      0.97      0.97       171\n",
      "\n"
     ]
    }
   ],
   "source": [
    "#导入工具包、预处理后的数据集\n",
    "import warnings\n",
    "warnings.filterwarnings(\"ignore\")\n",
    "\n",
    "import numpy as np\n",
    "import pandas as pd\n",
    "\n",
    "import matplotlib.pyplot as plt\n",
    "%matplotlib inline\n",
    "\n",
    "df = pd.read_csv('dataset/breast-cancer-wisconsin/breast-cancer-wisconsin.csv')\n",
    "\n",
    "#划分特征列和标签列\n",
    "#矩阵用大写，向量用小写\n",
    "X = df.drop('diagnosis',axis=1)\n",
    "\n",
    "y=df['diagnosis']\n",
    "\n",
    "feature_names = X.columns\n",
    "\n",
    "#类标整数化\n",
    "from sklearn.preprocessing import LabelEncoder#该类使用0到n_classs-1之间的值对目标标签进行编码。该转换器应用于编码目标值y，而不是输入X\n",
    "le = LabelEncoder()\n",
    "y = le.fit_transform(y)\n",
    "\n",
    "df_train = pd.read_csv('dataset/breast-cancer-wisconsin/train_data.csv')\n",
    "X_train = df_train.drop('diagnosis',axis=1)\n",
    "y_train = df_train['diagnosis']\n",
    "\n",
    "df_test = pd.read_csv('dataset/breast-cancer-wisconsin/test_data.csv')\n",
    "X_test = df_test.drop('diagnosis',axis=1)\n",
    "y_test = df_test['diagnosis']\n",
    "\n",
    "from sklearn.preprocessing import StandardScaler\n",
    "transform = StandardScaler() #实例化转换器\n",
    "#标准化，保证每个维度的特征数据方差为1，均值为0，使得预测结果不会被某些维度过大的特征值而主导\n",
    "X_train = transform.fit_transform(X_train)\n",
    "X_test = transform.transform(X_test)\n",
    "\n",
    "#重新训练模型\n",
    "import joblib\n",
    "from sklearn.ensemble import RandomForestClassifier\n",
    "model = joblib.load('saved_model/breast-cancer-wisconsin/RF/enhance_model/lime_enhan_3_model.pkl')\n",
    "\n",
    "y_pred = model.predict(X_test)\n",
    "y_pred_proba = model.predict_proba(X_test)\n",
    "\n",
    "#混淆矩阵\n",
    "from sklearn.metrics import confusion_matrix\n",
    "confusion_matrix_model = confusion_matrix(y_test,y_pred)\n",
    "print(\"Confusion Matrix:\\n\", confusion_matrix_model)\n",
    "\n",
    "from sklearn.metrics import classification_report\n",
    "print(classification_report(y_test,y_pred,target_names=['良性','恶性']))"
   ]
  },
  {
   "cell_type": "code",
   "execution_count": null,
   "id": "d643c1ff",
   "metadata": {},
   "outputs": [],
   "source": []
  }
 ],
 "metadata": {
  "kernelspec": {
   "display_name": "Python 3 (ipykernel)",
   "language": "python",
   "name": "python3"
  },
  "language_info": {
   "codemirror_mode": {
    "name": "ipython",
    "version": 3
   },
   "file_extension": ".py",
   "mimetype": "text/x-python",
   "name": "python",
   "nbconvert_exporter": "python",
   "pygments_lexer": "ipython3",
   "version": "3.8.1"
  }
 },
 "nbformat": 4,
 "nbformat_minor": 5
}
