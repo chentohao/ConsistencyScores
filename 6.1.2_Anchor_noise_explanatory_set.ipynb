{
 "cells": [
  {
   "cell_type": "code",
   "execution_count": 11,
   "id": "f73c9258",
   "metadata": {},
   "outputs": [],
   "source": [
    "import warnings\n",
    "warnings.filterwarnings(\"ignore\")\n",
    "\n",
    "import numpy as np\n",
    "import pandas as pd\n",
    "\n",
    "df = pd.read_csv('dataset/heart-disease/heart-disease.csv')\n",
    "\n",
    "X = df.drop('target',axis=1)\n",
    "\n",
    "y=df['target']\n",
    "\n",
    "feature_names = X.columns\n",
    "\n",
    "from sklearn.model_selection import train_test_split\n",
    "X_train, X_test, y_train, y_test = train_test_split(X, y, test_size=0.3, random_state=42)\n",
    "\n",
    "from sklearn.preprocessing import StandardScaler\n",
    "transform = StandardScaler()\n",
    "X_train[['age', 'trestbps', 'chol', 'thalach', 'oldpeak', 'ca']] = transform.fit_transform(X_train[['age', 'trestbps', 'chol', 'thalach', 'oldpeak', 'ca']])\n",
    "X_test[['age', 'trestbps', 'chol', 'thalach', 'oldpeak', 'ca']] = transform.transform(X_test[['age', 'trestbps', 'chol', 'thalach', 'oldpeak', 'ca']])\n",
    "\n",
    "noise_std = 0.2\n",
    "np.random.seed(0)\n",
    "X_test_noisy = X_test + noise_std * np.random.randn(*X_test.shape)"
   ]
  },
  {
   "cell_type": "code",
   "execution_count": 12,
   "id": "9827b723",
   "metadata": {},
   "outputs": [
    {
     "name": "stdout",
     "output_type": "stream",
     "text": [
      "Confusion Matrix:\n",
      " [[38 11]\n",
      " [ 8 33]]\n",
      "              precision    recall  f1-score   support\n",
      "\n",
      "     Healthy       0.83      0.78      0.80        49\n",
      "     Disease       0.75      0.80      0.78        41\n",
      "\n",
      "    accuracy                           0.79        90\n",
      "   macro avg       0.79      0.79      0.79        90\n",
      "weighted avg       0.79      0.79      0.79        90\n",
      "\n"
     ]
    }
   ],
   "source": [
    "import joblib\n",
    "model = joblib.load('saved_model/heart-disease/MLP.pkl')\n",
    "\n",
    "y_pred = model.predict(X_test_noisy)\n",
    "y_pred_proba = model.predict_proba(X_test_noisy)\n",
    "\n",
    "from sklearn.metrics import confusion_matrix\n",
    "confusion_matrix_model = confusion_matrix(y_test,y_pred)\n",
    "print(\"Confusion Matrix:\\n\", confusion_matrix_model)\n",
    "from sklearn.metrics import classification_report\n",
    "print(classification_report(y_test,y_pred,target_names=['Healthy', 'Disease']))"
   ]
  },
  {
   "cell_type": "code",
   "execution_count": 13,
   "id": "c877b1b3",
   "metadata": {},
   "outputs": [],
   "source": [
    "from anchor import anchor_tabular\n",
    "class_names=['Healthy', 'Disease']\n",
    "categorical_names = {\n",
    "    6: ['no', 'yes'], 7: ['no', 'yes'], 8: ['no', 'yes'], 9: ['no', 'yes'], 10: ['no', 'yes'], 11: ['no', 'yes'], 12: ['no', 'yes'], 13: ['no', 'yes'], 14: ['no', 'yes'], 15: ['no', 'yes'],\n",
    "    16: ['no', 'yes'], 17: ['no', 'yes'], 18: ['no', 'yes'], 19: ['no', 'yes'], 20: ['no', 'yes'], 21: ['no', 'yes'], 22: ['no', 'yes'], 23: ['no', 'yes'], 24: ['no', 'yes']\n",
    "}\n",
    "explainer = anchor_tabular.AnchorTabularExplainer(\n",
    "    class_names,\n",
    "    feature_names,\n",
    "    np.array(X_train),\n",
    "    categorical_names)"
   ]
  },
  {
   "cell_type": "code",
   "execution_count": 14,
   "id": "58e9f3b4",
   "metadata": {},
   "outputs": [],
   "source": [
    "explanations = [] \n",
    "\n",
    "# First loop over idx, generate explanation, and store the results in explanations\n",
    "for idx in range(90):\n",
    "    exp = explainer.explain_instance(X_test_noisy.iloc[idx].values.reshape(1, -1), model.predict,threshold=0.95)\n",
    "    explanations.append(exp)"
   ]
  },
  {
   "cell_type": "code",
   "execution_count": 15,
   "id": "e479cb84",
   "metadata": {},
   "outputs": [],
   "source": [
    "for k in range(1, 26):\n",
    "    test_data = pd.read_csv('dataset/heart-disease/test_data.csv')\n",
    "    bound = pd.read_csv('dataset/heart-disease/bound.csv')\n",
    "    for idx in range(90):\n",
    "        exp = explanations[idx] # Use the previously stored explanation\n",
    "        lista = exp.features()\n",
    "        #Keep the order and remove duplicates\n",
    "        lista = list(dict.fromkeys(lista))\n",
    "        length = len(lista)\n",
    "        if length > k:\n",
    "            for j in range(0,k):\n",
    "                test_data.iat[idx,lista[j]]=bound.iat[1,lista[j]]\n",
    "        elif length <= k:\n",
    "            for j in range(0,length):\n",
    "                test_data.iat[idx,lista[j]]=bound.iat[1,lista[j]]\n",
    "    filename = 'explain_set/heart-disease/MLP/anchor/noise/anchor_explain_'+str(k)+'.csv'\n",
    "    test_data.to_csv(filename,index=False)"
   ]
  },
  {
   "cell_type": "code",
   "execution_count": null,
   "id": "b6742fe5",
   "metadata": {},
   "outputs": [],
   "source": []
  }
 ],
 "metadata": {
  "kernelspec": {
   "display_name": "Python 3 (ipykernel)",
   "language": "python",
   "name": "python3"
  },
  "language_info": {
   "codemirror_mode": {
    "name": "ipython",
    "version": 3
   },
   "file_extension": ".py",
   "mimetype": "text/x-python",
   "name": "python",
   "nbconvert_exporter": "python",
   "pygments_lexer": "ipython3",
   "version": "3.8.1"
  }
 },
 "nbformat": 4,
 "nbformat_minor": 5
}
